{
  "cells": [
    {
      "cell_type": "markdown",
      "metadata": {
        "id": "view-in-github",
        "colab_type": "text"
      },
      "source": [
        "<a href=\"https://colab.research.google.com/github/costaivo/my-notes/blob/main/Notes_Pandas3_UberUseCase.ipynb\" target=\"_parent\"><img src=\"https://colab.research.google.com/assets/colab-badge.svg\" alt=\"Open In Colab\"/></a>"
      ]
    },
    {
      "cell_type": "markdown",
      "metadata": {
        "id": "6c6ef389"
      },
      "source": [
        "# Pandas-03 Notes\n"
      ],
      "id": "6c6ef389"
    },
    {
      "cell_type": "markdown",
      "metadata": {
        "id": "0Odh4GImwrQv"
      },
      "source": [
        "## Content\n",
        "\n",
        "  - **Restructuring data** \n",
        "    - `pd.melt()`\n",
        "    - `pd.pivot_table()`\n",
        "\n",
        "\n",
        "  - **Writing to a file** \n",
        "\n",
        "\n",
        "  - **Basic EDA (Uber usecase)**: \n",
        "    \n",
        "    - Importance of EDA\n",
        "    \n",
        "    - Basic info of data:\n",
        "      - `df.shape`\n",
        "      - `df.info`\n",
        "      - `df.head`\n",
        "    \n",
        "    - Handling datetime "
      ],
      "id": "0Odh4GImwrQv"
    },
    {
      "cell_type": "code",
      "execution_count": null,
      "metadata": {
        "id": "311ff12a"
      },
      "outputs": [],
      "source": [
        "0import pandas as pd"
      ],
      "id": "311ff12a"
    },
    {
      "cell_type": "markdown",
      "metadata": {
        "id": "a16ce774"
      },
      "source": [
        "## Restructuring data\n"
      ],
      "id": "a16ce774"
    },
    {
      "cell_type": "code",
      "execution_count": null,
      "metadata": {
        "colab": {
          "base_uri": "https://localhost:8080/"
        },
        "id": "8f912bYNYN5R",
        "outputId": "11b5cf96-a88c-4f70-da74-2a24cc0df64f",
        "scrolled": true
      },
      "outputs": [
        {
          "output_type": "stream",
          "name": "stdout",
          "text": [
            "Downloading...\n",
            "From: https://drive.google.com/uc?id=1wG8GaMi1hhfY6DsUPFjFtDYkumA-m2Xj\n",
            "To: /content/weather.csv\n",
            "\r  0% 0.00/12.0k [00:00<?, ?B/s]\r100% 12.0k/12.0k [00:00<00:00, 16.8MB/s]\n"
          ]
        }
      ],
      "source": [
        "!gdown 1wG8GaMi1hhfY6DsUPFjFtDYkumA-m2Xj"
      ],
      "id": "8f912bYNYN5R"
    },
    {
      "cell_type": "code",
      "execution_count": null,
      "metadata": {
        "colab": {
          "base_uri": "https://localhost:8080/",
          "height": 299
        },
        "id": "20d9efcb",
        "outputId": "76683be5-46c4-4263-b15c-5632de5e8d8f"
      },
      "outputs": [
        {
          "data": {
            "text/html": [
              "<div>\n",
              "<style scoped>\n",
              "    .dataframe tbody tr th:only-of-type {\n",
              "        vertical-align: middle;\n",
              "    }\n",
              "\n",
              "    .dataframe tbody tr th {\n",
              "        vertical-align: top;\n",
              "    }\n",
              "\n",
              "    .dataframe thead th {\n",
              "        text-align: right;\n",
              "    }\n",
              "</style>\n",
              "<table border=\"1\" class=\"dataframe\">\n",
              "  <thead>\n",
              "    <tr style=\"text-align: right;\">\n",
              "      <th></th>\n",
              "      <th>year</th>\n",
              "      <th>month</th>\n",
              "      <th>element</th>\n",
              "      <th>day1</th>\n",
              "      <th>day2</th>\n",
              "      <th>day3</th>\n",
              "      <th>day4</th>\n",
              "      <th>day5</th>\n",
              "      <th>day6</th>\n",
              "      <th>day7</th>\n",
              "      <th>...</th>\n",
              "      <th>day22</th>\n",
              "      <th>day23</th>\n",
              "      <th>day24</th>\n",
              "      <th>day25</th>\n",
              "      <th>day26</th>\n",
              "      <th>day27</th>\n",
              "      <th>day28</th>\n",
              "      <th>day29</th>\n",
              "      <th>day30</th>\n",
              "      <th>day31</th>\n",
              "    </tr>\n",
              "  </thead>\n",
              "  <tbody>\n",
              "    <tr>\n",
              "      <th>0</th>\n",
              "      <td>2018</td>\n",
              "      <td>1</td>\n",
              "      <td>max</td>\n",
              "      <td>17.573016</td>\n",
              "      <td>19.796815</td>\n",
              "      <td>22.412495</td>\n",
              "      <td>17.813163</td>\n",
              "      <td>20.165825</td>\n",
              "      <td>17.060539</td>\n",
              "      <td>22.736134</td>\n",
              "      <td>...</td>\n",
              "      <td>22.629226</td>\n",
              "      <td>19.013674</td>\n",
              "      <td>17.831558</td>\n",
              "      <td>17.018316</td>\n",
              "      <td>21.837387</td>\n",
              "      <td>19.700255</td>\n",
              "      <td>19.084056</td>\n",
              "      <td>18.534690</td>\n",
              "      <td>20.787275</td>\n",
              "      <td>21.117423</td>\n",
              "    </tr>\n",
              "    <tr>\n",
              "      <th>1</th>\n",
              "      <td>2018</td>\n",
              "      <td>1</td>\n",
              "      <td>min</td>\n",
              "      <td>22.725760</td>\n",
              "      <td>21.007865</td>\n",
              "      <td>17.730792</td>\n",
              "      <td>18.045290</td>\n",
              "      <td>20.766734</td>\n",
              "      <td>18.656651</td>\n",
              "      <td>22.607481</td>\n",
              "      <td>...</td>\n",
              "      <td>21.163491</td>\n",
              "      <td>17.371653</td>\n",
              "      <td>17.194530</td>\n",
              "      <td>18.964190</td>\n",
              "      <td>17.892385</td>\n",
              "      <td>17.646139</td>\n",
              "      <td>19.844125</td>\n",
              "      <td>22.729859</td>\n",
              "      <td>19.768917</td>\n",
              "      <td>20.913443</td>\n",
              "    </tr>\n",
              "    <tr>\n",
              "      <th>2</th>\n",
              "      <td>2018</td>\n",
              "      <td>2</td>\n",
              "      <td>max</td>\n",
              "      <td>19.015120</td>\n",
              "      <td>19.261805</td>\n",
              "      <td>17.510713</td>\n",
              "      <td>21.080425</td>\n",
              "      <td>17.915749</td>\n",
              "      <td>19.082145</td>\n",
              "      <td>18.056023</td>\n",
              "      <td>...</td>\n",
              "      <td>21.254968</td>\n",
              "      <td>20.346324</td>\n",
              "      <td>20.036019</td>\n",
              "      <td>22.926773</td>\n",
              "      <td>17.533172</td>\n",
              "      <td>20.308927</td>\n",
              "      <td>20.438899</td>\n",
              "      <td>17.005806</td>\n",
              "      <td>18.346534</td>\n",
              "      <td>20.878165</td>\n",
              "    </tr>\n",
              "    <tr>\n",
              "      <th>3</th>\n",
              "      <td>2018</td>\n",
              "      <td>2</td>\n",
              "      <td>min</td>\n",
              "      <td>18.653843</td>\n",
              "      <td>22.818600</td>\n",
              "      <td>21.842673</td>\n",
              "      <td>21.958159</td>\n",
              "      <td>22.523078</td>\n",
              "      <td>18.535469</td>\n",
              "      <td>19.636158</td>\n",
              "      <td>...</td>\n",
              "      <td>19.711974</td>\n",
              "      <td>20.586232</td>\n",
              "      <td>18.780840</td>\n",
              "      <td>20.065633</td>\n",
              "      <td>18.293548</td>\n",
              "      <td>20.823661</td>\n",
              "      <td>18.056112</td>\n",
              "      <td>22.748292</td>\n",
              "      <td>22.470172</td>\n",
              "      <td>18.602007</td>\n",
              "    </tr>\n",
              "    <tr>\n",
              "      <th>4</th>\n",
              "      <td>2018</td>\n",
              "      <td>3</td>\n",
              "      <td>max</td>\n",
              "      <td>20.741115</td>\n",
              "      <td>19.704016</td>\n",
              "      <td>17.039811</td>\n",
              "      <td>20.703908</td>\n",
              "      <td>22.714125</td>\n",
              "      <td>17.205000</td>\n",
              "      <td>19.079503</td>\n",
              "      <td>...</td>\n",
              "      <td>19.528963</td>\n",
              "      <td>19.563689</td>\n",
              "      <td>22.658997</td>\n",
              "      <td>22.446357</td>\n",
              "      <td>17.911240</td>\n",
              "      <td>22.591993</td>\n",
              "      <td>17.406800</td>\n",
              "      <td>19.118712</td>\n",
              "      <td>22.767154</td>\n",
              "      <td>17.119452</td>\n",
              "    </tr>\n",
              "  </tbody>\n",
              "</table>\n",
              "<p>5 rows × 34 columns</p>\n",
              "</div>"
            ],
            "text/plain": [
              "   year  month element       day1       day2       day3       day4       day5  \\\n",
              "0  2018      1     max  17.573016  19.796815  22.412495  17.813163  20.165825   \n",
              "1  2018      1     min  22.725760  21.007865  17.730792  18.045290  20.766734   \n",
              "2  2018      2     max  19.015120  19.261805  17.510713  21.080425  17.915749   \n",
              "3  2018      2     min  18.653843  22.818600  21.842673  21.958159  22.523078   \n",
              "4  2018      3     max  20.741115  19.704016  17.039811  20.703908  22.714125   \n",
              "\n",
              "        day6       day7  ...      day22      day23      day24      day25  \\\n",
              "0  17.060539  22.736134  ...  22.629226  19.013674  17.831558  17.018316   \n",
              "1  18.656651  22.607481  ...  21.163491  17.371653  17.194530  18.964190   \n",
              "2  19.082145  18.056023  ...  21.254968  20.346324  20.036019  22.926773   \n",
              "3  18.535469  19.636158  ...  19.711974  20.586232  18.780840  20.065633   \n",
              "4  17.205000  19.079503  ...  19.528963  19.563689  22.658997  22.446357   \n",
              "\n",
              "       day26      day27      day28      day29      day30      day31  \n",
              "0  21.837387  19.700255  19.084056  18.534690  20.787275  21.117423  \n",
              "1  17.892385  17.646139  19.844125  22.729859  19.768917  20.913443  \n",
              "2  17.533172  20.308927  20.438899  17.005806  18.346534  20.878165  \n",
              "3  18.293548  20.823661  18.056112  22.748292  22.470172  18.602007  \n",
              "4  17.911240  22.591993  17.406800  19.118712  22.767154  17.119452  \n",
              "\n",
              "[5 rows x 34 columns]"
            ]
          },
          "execution_count": 3,
          "metadata": {},
          "output_type": "execute_result"
        }
      ],
      "source": [
        "xweather = pd.read_csv('weather.csv')\n",
        "weather.head()"
      ],
      "id": "20d9efcb"
    },
    {
      "cell_type": "markdown",
      "metadata": {
        "id": "8141d966"
      },
      "source": [
        "#### Shape of this dataset"
      ],
      "id": "8141d966"
    },
    {
      "cell_type": "code",
      "execution_count": null,
      "metadata": {
        "colab": {
          "base_uri": "https://localhost:8080/"
        },
        "id": "47aeeed9",
        "outputId": "04895d34-33b5-4609-d40a-c93662d1f40a"
      },
      "outputs": [
        {
          "data": {
            "text/plain": [
              "(22, 34)"
            ]
          },
          "execution_count": 4,
          "metadata": {},
          "output_type": "execute_result"
        }
      ],
      "source": [
        "weather.shape"
      ],
      "id": "47aeeed9"
    },
    {
      "cell_type": "markdown",
      "metadata": {
        "id": "86b544dd"
      },
      "source": [
        "#### Takeaway: \n",
        "\n",
        "- **Usually** no. of rows are more than no. of columns; But in this case, **no. of columns > no. of rows**\n",
        "\n",
        "- The **columns are `day1`, `day2`, `day3`, ... so on**\n",
        "\n",
        "- `max` and `min` **value of each day** of the month is **in a separate row**\n",
        "\n",
        "\n",
        "\n",
        "#### Restructuring DataFrame to columns [`year`, `month`, `day`, `min`, `max`]\n",
        "- `pd.melt()`\n",
        "\n",
        "\n"
      ],
      "id": "86b544dd"
    },
    {
      "cell_type": "markdown",
      "metadata": {
        "id": "WyD49xdHYoVA"
      },
      "source": [
        "`pd.melt()`\n",
        "\n",
        "Refer: https://pandas.pydata.org/docs/reference/api/pandas.melt.html\n",
        "\n",
        "- Pass in the **DataFrame**\n",
        "\n",
        "\n",
        "- Pass in the **column names that we DON'T want to change**\n",
        "\n",
        "\n",
        "- Pass in the **new column name** that will store **labels of columns to melt** \n",
        "    - From `day1`, `day2`... through to `day31` **into a single column** `day`\n",
        "\n",
        "\n",
        "- Finally pass in **new column name** that will have **values from columns we are melting** \n",
        "    - Let's call it `temp`"
      ],
      "id": "WyD49xdHYoVA"
    },
    {
      "cell_type": "code",
      "execution_count": null,
      "metadata": {
        "colab": {
          "base_uri": "https://localhost:8080/",
          "height": 424
        },
        "id": "11ba3dcc",
        "outputId": "60823787-1494-4a32-c89f-680a399ab43e"
      },
      "outputs": [
        {
          "data": {
            "text/html": [
              "<div>\n",
              "<style scoped>\n",
              "    .dataframe tbody tr th:only-of-type {\n",
              "        vertical-align: middle;\n",
              "    }\n",
              "\n",
              "    .dataframe tbody tr th {\n",
              "        vertical-align: top;\n",
              "    }\n",
              "\n",
              "    .dataframe thead th {\n",
              "        text-align: right;\n",
              "    }\n",
              "</style>\n",
              "<table border=\"1\" class=\"dataframe\">\n",
              "  <thead>\n",
              "    <tr style=\"text-align: right;\">\n",
              "      <th></th>\n",
              "      <th>year</th>\n",
              "      <th>month</th>\n",
              "      <th>element</th>\n",
              "      <th>day</th>\n",
              "      <th>temp</th>\n",
              "    </tr>\n",
              "  </thead>\n",
              "  <tbody>\n",
              "    <tr>\n",
              "      <th>0</th>\n",
              "      <td>2018</td>\n",
              "      <td>1</td>\n",
              "      <td>max</td>\n",
              "      <td>day1</td>\n",
              "      <td>17.573016</td>\n",
              "    </tr>\n",
              "    <tr>\n",
              "      <th>1</th>\n",
              "      <td>2018</td>\n",
              "      <td>1</td>\n",
              "      <td>min</td>\n",
              "      <td>day1</td>\n",
              "      <td>22.725760</td>\n",
              "    </tr>\n",
              "    <tr>\n",
              "      <th>2</th>\n",
              "      <td>2018</td>\n",
              "      <td>2</td>\n",
              "      <td>max</td>\n",
              "      <td>day1</td>\n",
              "      <td>19.015120</td>\n",
              "    </tr>\n",
              "    <tr>\n",
              "      <th>3</th>\n",
              "      <td>2018</td>\n",
              "      <td>2</td>\n",
              "      <td>min</td>\n",
              "      <td>day1</td>\n",
              "      <td>18.653843</td>\n",
              "    </tr>\n",
              "    <tr>\n",
              "      <th>4</th>\n",
              "      <td>2018</td>\n",
              "      <td>3</td>\n",
              "      <td>max</td>\n",
              "      <td>day1</td>\n",
              "      <td>20.741115</td>\n",
              "    </tr>\n",
              "    <tr>\n",
              "      <th>...</th>\n",
              "      <td>...</td>\n",
              "      <td>...</td>\n",
              "      <td>...</td>\n",
              "      <td>...</td>\n",
              "      <td>...</td>\n",
              "    </tr>\n",
              "    <tr>\n",
              "      <th>677</th>\n",
              "      <td>2018</td>\n",
              "      <td>10</td>\n",
              "      <td>min</td>\n",
              "      <td>day31</td>\n",
              "      <td>21.691537</td>\n",
              "    </tr>\n",
              "    <tr>\n",
              "      <th>678</th>\n",
              "      <td>2018</td>\n",
              "      <td>11</td>\n",
              "      <td>max</td>\n",
              "      <td>day31</td>\n",
              "      <td>20.750438</td>\n",
              "    </tr>\n",
              "    <tr>\n",
              "      <th>679</th>\n",
              "      <td>2018</td>\n",
              "      <td>11</td>\n",
              "      <td>min</td>\n",
              "      <td>day31</td>\n",
              "      <td>18.939767</td>\n",
              "    </tr>\n",
              "    <tr>\n",
              "      <th>680</th>\n",
              "      <td>2018</td>\n",
              "      <td>12</td>\n",
              "      <td>max</td>\n",
              "      <td>day31</td>\n",
              "      <td>19.648924</td>\n",
              "    </tr>\n",
              "    <tr>\n",
              "      <th>681</th>\n",
              "      <td>2018</td>\n",
              "      <td>12</td>\n",
              "      <td>min</td>\n",
              "      <td>day31</td>\n",
              "      <td>18.775539</td>\n",
              "    </tr>\n",
              "  </tbody>\n",
              "</table>\n",
              "<p>682 rows × 5 columns</p>\n",
              "</div>"
            ],
            "text/plain": [
              "     year  month element    day       temp\n",
              "0    2018      1     max   day1  17.573016\n",
              "1    2018      1     min   day1  22.725760\n",
              "2    2018      2     max   day1  19.015120\n",
              "3    2018      2     min   day1  18.653843\n",
              "4    2018      3     max   day1  20.741115\n",
              "..    ...    ...     ...    ...        ...\n",
              "677  2018     10     min  day31  21.691537\n",
              "678  2018     11     max  day31  20.750438\n",
              "679  2018     11     min  day31  18.939767\n",
              "680  2018     12     max  day31  19.648924\n",
              "681  2018     12     min  day31  18.775539\n",
              "\n",
              "[682 rows x 5 columns]"
            ]
          },
          "execution_count": 6,
          "metadata": {},
          "output_type": "execute_result"
        }
      ],
      "source": [
        "weather_melt = pd.melt(weather, \n",
        "                       id_vars=['year', 'month', 'element'], \n",
        "                       var_name=\"day\", \n",
        "                       value_name=\"temp\")\n",
        "\n",
        "# We'll store the result in a new variable\n",
        "\n",
        "weather_melt"
      ],
      "id": "11ba3dcc"
    },
    {
      "cell_type": "markdown",
      "metadata": {
        "id": "b1565580"
      },
      "source": [
        "\n",
        "#### Notice:\n",
        "\n",
        "- It's **using 2 rows for a single day**\n",
        "    - One for **`min temp`** and one for **`max temp`**\n",
        "    \n",
        "    \n",
        "\n",
        "\n",
        "\n",
        "####  We want to **split one single column into multiple columns**\n",
        "\n",
        "`year | month | day | min_temp | max_temp`\n"
      ],
      "id": "b1565580"
    },
    {
      "cell_type": "markdown",
      "metadata": {
        "id": "MgMcrcUqZnqn"
      },
      "source": [
        "\n",
        "#### - `pivot_table()`\n",
        "\n",
        "Refer: https://pandas.pydata.org/docs/reference/api/pandas.pivot_table.html\n",
        "\n",
        "- Pass in the **column names that we DON'T want to change**\n",
        "\n",
        "\n",
        "- Pass in the **column name that we want to split** \n",
        "    - **Labels of new columns will come from the column we want to split**\n",
        "\n",
        "\n",
        "- Pass in the **column from which we will get our values**"
      ],
      "id": "MgMcrcUqZnqn"
    },
    {
      "cell_type": "code",
      "execution_count": null,
      "metadata": {
        "colab": {
          "base_uri": "https://localhost:8080/",
          "height": 455
        },
        "id": "a23eb092",
        "outputId": "91ebe770-6046-4cc4-f0bd-fde0399e62e4"
      },
      "outputs": [
        {
          "data": {
            "text/html": [
              "<div>\n",
              "<style scoped>\n",
              "    .dataframe tbody tr th:only-of-type {\n",
              "        vertical-align: middle;\n",
              "    }\n",
              "\n",
              "    .dataframe tbody tr th {\n",
              "        vertical-align: top;\n",
              "    }\n",
              "\n",
              "    .dataframe thead th {\n",
              "        text-align: right;\n",
              "    }\n",
              "</style>\n",
              "<table border=\"1\" class=\"dataframe\">\n",
              "  <thead>\n",
              "    <tr style=\"text-align: right;\">\n",
              "      <th></th>\n",
              "      <th></th>\n",
              "      <th>element</th>\n",
              "      <th>max</th>\n",
              "      <th>min</th>\n",
              "    </tr>\n",
              "    <tr>\n",
              "      <th>year</th>\n",
              "      <th>month</th>\n",
              "      <th>day</th>\n",
              "      <th></th>\n",
              "      <th></th>\n",
              "    </tr>\n",
              "  </thead>\n",
              "  <tbody>\n",
              "    <tr>\n",
              "      <th rowspan=\"11\" valign=\"top\">2018</th>\n",
              "      <th rowspan=\"5\" valign=\"top\">1</th>\n",
              "      <th>day1</th>\n",
              "      <td>17.573016</td>\n",
              "      <td>22.725760</td>\n",
              "    </tr>\n",
              "    <tr>\n",
              "      <th>day10</th>\n",
              "      <td>19.067288</td>\n",
              "      <td>19.931129</td>\n",
              "    </tr>\n",
              "    <tr>\n",
              "      <th>day11</th>\n",
              "      <td>19.361002</td>\n",
              "      <td>22.598325</td>\n",
              "    </tr>\n",
              "    <tr>\n",
              "      <th>day12</th>\n",
              "      <td>20.982134</td>\n",
              "      <td>17.715137</td>\n",
              "    </tr>\n",
              "    <tr>\n",
              "      <th>day13</th>\n",
              "      <td>21.668005</td>\n",
              "      <td>17.940334</td>\n",
              "    </tr>\n",
              "    <tr>\n",
              "      <th>...</th>\n",
              "      <th>...</th>\n",
              "      <td>...</td>\n",
              "      <td>...</td>\n",
              "    </tr>\n",
              "    <tr>\n",
              "      <th rowspan=\"5\" valign=\"top\">12</th>\n",
              "      <th>day5</th>\n",
              "      <td>21.375349</td>\n",
              "      <td>20.865535</td>\n",
              "    </tr>\n",
              "    <tr>\n",
              "      <th>day6</th>\n",
              "      <td>17.992885</td>\n",
              "      <td>20.310116</td>\n",
              "    </tr>\n",
              "    <tr>\n",
              "      <th>day7</th>\n",
              "      <td>19.683359</td>\n",
              "      <td>20.531823</td>\n",
              "    </tr>\n",
              "    <tr>\n",
              "      <th>day8</th>\n",
              "      <td>20.477046</td>\n",
              "      <td>19.310346</td>\n",
              "    </tr>\n",
              "    <tr>\n",
              "      <th>day9</th>\n",
              "      <td>20.210640</td>\n",
              "      <td>22.820992</td>\n",
              "    </tr>\n",
              "  </tbody>\n",
              "</table>\n",
              "<p>341 rows × 2 columns</p>\n",
              "</div>"
            ],
            "text/plain": [
              "element                 max        min\n",
              "year month day                        \n",
              "2018 1     day1   17.573016  22.725760\n",
              "           day10  19.067288  19.931129\n",
              "           day11  19.361002  22.598325\n",
              "           day12  20.982134  17.715137\n",
              "           day13  21.668005  17.940334\n",
              "...                     ...        ...\n",
              "     12    day5   21.375349  20.865535\n",
              "           day6   17.992885  20.310116\n",
              "           day7   19.683359  20.531823\n",
              "           day8   20.477046  19.310346\n",
              "           day9   20.210640  22.820992\n",
              "\n",
              "[341 rows x 2 columns]"
            ]
          },
          "execution_count": 7,
          "metadata": {},
          "output_type": "execute_result"
        }
      ],
      "source": [
        "weather_tidy = weather_melt.pivot(index=['year', 'month', 'day'], \n",
        "                                        columns = 'element',\n",
        "                                        values='temp')\n",
        "\n",
        "weather_tidy"
      ],
      "id": "a23eb092"
    },
    {
      "cell_type": "markdown",
      "metadata": {
        "id": "fcae9820"
      },
      "source": [
        "**Takeaway:**\n",
        "- Notice that a multi-index df has been created.\n",
        "- We can change this using **`reset_index()`**"
      ],
      "id": "fcae9820"
    },
    {
      "cell_type": "code",
      "execution_count": null,
      "metadata": {
        "colab": {
          "base_uri": "https://localhost:8080/",
          "height": 424
        },
        "id": "fab03abf",
        "outputId": "d4142548-ed9c-4752-ecd8-65d18edbabcf"
      },
      "outputs": [
        {
          "data": {
            "text/html": [
              "<div>\n",
              "<style scoped>\n",
              "    .dataframe tbody tr th:only-of-type {\n",
              "        vertical-align: middle;\n",
              "    }\n",
              "\n",
              "    .dataframe tbody tr th {\n",
              "        vertical-align: top;\n",
              "    }\n",
              "\n",
              "    .dataframe thead th {\n",
              "        text-align: right;\n",
              "    }\n",
              "</style>\n",
              "<table border=\"1\" class=\"dataframe\">\n",
              "  <thead>\n",
              "    <tr style=\"text-align: right;\">\n",
              "      <th>element</th>\n",
              "      <th>year</th>\n",
              "      <th>month</th>\n",
              "      <th>day</th>\n",
              "      <th>max</th>\n",
              "      <th>min</th>\n",
              "    </tr>\n",
              "  </thead>\n",
              "  <tbody>\n",
              "    <tr>\n",
              "      <th>0</th>\n",
              "      <td>2018</td>\n",
              "      <td>1</td>\n",
              "      <td>day1</td>\n",
              "      <td>17.573016</td>\n",
              "      <td>22.725760</td>\n",
              "    </tr>\n",
              "    <tr>\n",
              "      <th>1</th>\n",
              "      <td>2018</td>\n",
              "      <td>1</td>\n",
              "      <td>day10</td>\n",
              "      <td>19.067288</td>\n",
              "      <td>19.931129</td>\n",
              "    </tr>\n",
              "    <tr>\n",
              "      <th>2</th>\n",
              "      <td>2018</td>\n",
              "      <td>1</td>\n",
              "      <td>day11</td>\n",
              "      <td>19.361002</td>\n",
              "      <td>22.598325</td>\n",
              "    </tr>\n",
              "    <tr>\n",
              "      <th>3</th>\n",
              "      <td>2018</td>\n",
              "      <td>1</td>\n",
              "      <td>day12</td>\n",
              "      <td>20.982134</td>\n",
              "      <td>17.715137</td>\n",
              "    </tr>\n",
              "    <tr>\n",
              "      <th>4</th>\n",
              "      <td>2018</td>\n",
              "      <td>1</td>\n",
              "      <td>day13</td>\n",
              "      <td>21.668005</td>\n",
              "      <td>17.940334</td>\n",
              "    </tr>\n",
              "    <tr>\n",
              "      <th>...</th>\n",
              "      <td>...</td>\n",
              "      <td>...</td>\n",
              "      <td>...</td>\n",
              "      <td>...</td>\n",
              "      <td>...</td>\n",
              "    </tr>\n",
              "    <tr>\n",
              "      <th>336</th>\n",
              "      <td>2018</td>\n",
              "      <td>12</td>\n",
              "      <td>day5</td>\n",
              "      <td>21.375349</td>\n",
              "      <td>20.865535</td>\n",
              "    </tr>\n",
              "    <tr>\n",
              "      <th>337</th>\n",
              "      <td>2018</td>\n",
              "      <td>12</td>\n",
              "      <td>day6</td>\n",
              "      <td>17.992885</td>\n",
              "      <td>20.310116</td>\n",
              "    </tr>\n",
              "    <tr>\n",
              "      <th>338</th>\n",
              "      <td>2018</td>\n",
              "      <td>12</td>\n",
              "      <td>day7</td>\n",
              "      <td>19.683359</td>\n",
              "      <td>20.531823</td>\n",
              "    </tr>\n",
              "    <tr>\n",
              "      <th>339</th>\n",
              "      <td>2018</td>\n",
              "      <td>12</td>\n",
              "      <td>day8</td>\n",
              "      <td>20.477046</td>\n",
              "      <td>19.310346</td>\n",
              "    </tr>\n",
              "    <tr>\n",
              "      <th>340</th>\n",
              "      <td>2018</td>\n",
              "      <td>12</td>\n",
              "      <td>day9</td>\n",
              "      <td>20.210640</td>\n",
              "      <td>22.820992</td>\n",
              "    </tr>\n",
              "  </tbody>\n",
              "</table>\n",
              "<p>341 rows × 5 columns</p>\n",
              "</div>"
            ],
            "text/plain": [
              "element  year  month    day        max        min\n",
              "0        2018      1   day1  17.573016  22.725760\n",
              "1        2018      1  day10  19.067288  19.931129\n",
              "2        2018      1  day11  19.361002  22.598325\n",
              "3        2018      1  day12  20.982134  17.715137\n",
              "4        2018      1  day13  21.668005  17.940334\n",
              "..        ...    ...    ...        ...        ...\n",
              "336      2018     12   day5  21.375349  20.865535\n",
              "337      2018     12   day6  17.992885  20.310116\n",
              "338      2018     12   day7  19.683359  20.531823\n",
              "339      2018     12   day8  20.477046  19.310346\n",
              "340      2018     12   day9  20.210640  22.820992\n",
              "\n",
              "[341 rows x 5 columns]"
            ]
          },
          "execution_count": 8,
          "metadata": {},
          "output_type": "execute_result"
        }
      ],
      "source": [
        "weather_tidy = weather_tidy.reset_index()\n",
        "weather_tidy"
      ],
      "id": "fab03abf"
    },
    {
      "cell_type": "markdown",
      "metadata": {
        "id": "gMw1SsFBpLx2"
      },
      "source": [
        "## Writing to file\n",
        "\n"
      ],
      "id": "gMw1SsFBpLx2"
    },
    {
      "cell_type": "code",
      "execution_count": null,
      "metadata": {
        "id": "24747bf1"
      },
      "outputs": [],
      "source": [
        "weather_tidy.to_csv('weather_tidy.csv', sep=\",\") "
      ],
      "id": "24747bf1"
    },
    {
      "cell_type": "markdown",
      "metadata": {
        "id": "WStjAPs7xaXB"
      },
      "source": [
        "## Exploratory Data Analysis - Uber Drives Data\n",
        "\n",
        "\n",
        "  - It include performing operations on data like:\n",
        "\n",
        "    - **Cleaning** the data\n",
        "\n",
        "    - Dealing with **missing values**\n",
        "\n",
        "    - **Adding** a few **columns** that might be helpful\n",
        "\n",
        "    - **Restructuring** the data etc..\n",
        "\n",
        "\n"
      ],
      "id": "WStjAPs7xaXB"
    },
    {
      "cell_type": "code",
      "execution_count": null,
      "metadata": {
        "colab": {
          "base_uri": "https://localhost:8080/"
        },
        "id": "lrG7ExVMGDL_",
        "outputId": "5c2a827c-6ad7-43e3-c272-34d8a6710a12"
      },
      "outputs": [
        {
          "name": "stderr",
          "output_type": "stream",
          "text": [
            "Downloading...\n",
            "From: https://drive.google.com/uc?id=1TL2hWkMWtD1ExVgaQhWP6A2swR8F8cVB\n",
            "To: H:\\Scaler work\\dsml-course\\07-08-09-Pandas\\UberDrives.csv\n",
            "\n",
            "  0%|          | 0.00/86.4k [00:00<?, ?B/s]\n",
            "100%|##########| 86.4k/86.4k [00:00<00:00, 8.50MB/s]\n"
          ]
        }
      ],
      "source": [
        "!gdown 1TL2hWkMWtD1ExVgaQhWP6A2swR8F8cVB"
      ],
      "id": "lrG7ExVMGDL_"
    },
    {
      "cell_type": "code",
      "execution_count": null,
      "metadata": {
        "colab": {
          "base_uri": "https://localhost:8080/",
          "height": 424
        },
        "id": "0e7ef22a",
        "outputId": "6eeeadcf-e987-4c1a-e1e1-d571ec132acc"
      },
      "outputs": [
        {
          "data": {
            "text/html": [
              "<div>\n",
              "<style scoped>\n",
              "    .dataframe tbody tr th:only-of-type {\n",
              "        vertical-align: middle;\n",
              "    }\n",
              "\n",
              "    .dataframe tbody tr th {\n",
              "        vertical-align: top;\n",
              "    }\n",
              "\n",
              "    .dataframe thead th {\n",
              "        text-align: right;\n",
              "    }\n",
              "</style>\n",
              "<table border=\"1\" class=\"dataframe\">\n",
              "  <thead>\n",
              "    <tr style=\"text-align: right;\">\n",
              "      <th></th>\n",
              "      <th>START_DATE*</th>\n",
              "      <th>END_DATE*</th>\n",
              "      <th>CATEGORY*</th>\n",
              "      <th>START*</th>\n",
              "      <th>STOP*</th>\n",
              "      <th>MILES*</th>\n",
              "      <th>PURPOSE*</th>\n",
              "    </tr>\n",
              "  </thead>\n",
              "  <tbody>\n",
              "    <tr>\n",
              "      <th>0</th>\n",
              "      <td>1/1/2016 21:11</td>\n",
              "      <td>1/1/2016 21:17</td>\n",
              "      <td>Business</td>\n",
              "      <td>Fort Pierce</td>\n",
              "      <td>Fort Pierce</td>\n",
              "      <td>5.1</td>\n",
              "      <td>Meal/Entertain</td>\n",
              "    </tr>\n",
              "    <tr>\n",
              "      <th>1</th>\n",
              "      <td>1/2/2016 1:25</td>\n",
              "      <td>1/2/2016 1:37</td>\n",
              "      <td>Business</td>\n",
              "      <td>Fort Pierce</td>\n",
              "      <td>Fort Pierce</td>\n",
              "      <td>5.0</td>\n",
              "      <td>NaN</td>\n",
              "    </tr>\n",
              "    <tr>\n",
              "      <th>2</th>\n",
              "      <td>1/2/2016 20:25</td>\n",
              "      <td>1/2/2016 20:38</td>\n",
              "      <td>Business</td>\n",
              "      <td>Fort Pierce</td>\n",
              "      <td>Fort Pierce</td>\n",
              "      <td>4.8</td>\n",
              "      <td>Errand/Supplies</td>\n",
              "    </tr>\n",
              "    <tr>\n",
              "      <th>3</th>\n",
              "      <td>1/5/2016 17:31</td>\n",
              "      <td>1/5/2016 17:45</td>\n",
              "      <td>Business</td>\n",
              "      <td>Fort Pierce</td>\n",
              "      <td>Fort Pierce</td>\n",
              "      <td>4.7</td>\n",
              "      <td>Meeting</td>\n",
              "    </tr>\n",
              "    <tr>\n",
              "      <th>4</th>\n",
              "      <td>1/6/2016 14:42</td>\n",
              "      <td>1/6/2016 15:49</td>\n",
              "      <td>Business</td>\n",
              "      <td>Fort Pierce</td>\n",
              "      <td>West Palm Beach</td>\n",
              "      <td>63.7</td>\n",
              "      <td>Customer Visit</td>\n",
              "    </tr>\n",
              "    <tr>\n",
              "      <th>...</th>\n",
              "      <td>...</td>\n",
              "      <td>...</td>\n",
              "      <td>...</td>\n",
              "      <td>...</td>\n",
              "      <td>...</td>\n",
              "      <td>...</td>\n",
              "      <td>...</td>\n",
              "    </tr>\n",
              "    <tr>\n",
              "      <th>1151</th>\n",
              "      <td>12/31/2016 13:24</td>\n",
              "      <td>12/31/2016 13:42</td>\n",
              "      <td>Business</td>\n",
              "      <td>Kar?chi</td>\n",
              "      <td>Unknown Location</td>\n",
              "      <td>3.9</td>\n",
              "      <td>Temporary Site</td>\n",
              "    </tr>\n",
              "    <tr>\n",
              "      <th>1152</th>\n",
              "      <td>12/31/2016 15:03</td>\n",
              "      <td>12/31/2016 15:38</td>\n",
              "      <td>Business</td>\n",
              "      <td>Unknown Location</td>\n",
              "      <td>Unknown Location</td>\n",
              "      <td>16.2</td>\n",
              "      <td>Meeting</td>\n",
              "    </tr>\n",
              "    <tr>\n",
              "      <th>1153</th>\n",
              "      <td>12/31/2016 21:32</td>\n",
              "      <td>12/31/2016 21:50</td>\n",
              "      <td>Business</td>\n",
              "      <td>Katunayake</td>\n",
              "      <td>Gampaha</td>\n",
              "      <td>6.4</td>\n",
              "      <td>Temporary Site</td>\n",
              "    </tr>\n",
              "    <tr>\n",
              "      <th>1154</th>\n",
              "      <td>12/31/2016 22:08</td>\n",
              "      <td>12/31/2016 23:51</td>\n",
              "      <td>Business</td>\n",
              "      <td>Gampaha</td>\n",
              "      <td>Ilukwatta</td>\n",
              "      <td>48.2</td>\n",
              "      <td>Temporary Site</td>\n",
              "    </tr>\n",
              "    <tr>\n",
              "      <th>1155</th>\n",
              "      <td>Totals</td>\n",
              "      <td>NaN</td>\n",
              "      <td>NaN</td>\n",
              "      <td>NaN</td>\n",
              "      <td>NaN</td>\n",
              "      <td>12204.7</td>\n",
              "      <td>NaN</td>\n",
              "    </tr>\n",
              "  </tbody>\n",
              "</table>\n",
              "<p>1156 rows × 7 columns</p>\n",
              "</div>"
            ],
            "text/plain": [
              "           START_DATE*         END_DATE* CATEGORY*            START*  \\\n",
              "0       1/1/2016 21:11    1/1/2016 21:17  Business       Fort Pierce   \n",
              "1        1/2/2016 1:25     1/2/2016 1:37  Business       Fort Pierce   \n",
              "2       1/2/2016 20:25    1/2/2016 20:38  Business       Fort Pierce   \n",
              "3       1/5/2016 17:31    1/5/2016 17:45  Business       Fort Pierce   \n",
              "4       1/6/2016 14:42    1/6/2016 15:49  Business       Fort Pierce   \n",
              "...                ...               ...       ...               ...   \n",
              "1151  12/31/2016 13:24  12/31/2016 13:42  Business           Kar?chi   \n",
              "1152  12/31/2016 15:03  12/31/2016 15:38  Business  Unknown Location   \n",
              "1153  12/31/2016 21:32  12/31/2016 21:50  Business        Katunayake   \n",
              "1154  12/31/2016 22:08  12/31/2016 23:51  Business           Gampaha   \n",
              "1155            Totals               NaN       NaN               NaN   \n",
              "\n",
              "                 STOP*   MILES*         PURPOSE*  \n",
              "0          Fort Pierce      5.1   Meal/Entertain  \n",
              "1          Fort Pierce      5.0              NaN  \n",
              "2          Fort Pierce      4.8  Errand/Supplies  \n",
              "3          Fort Pierce      4.7          Meeting  \n",
              "4      West Palm Beach     63.7   Customer Visit  \n",
              "...                ...      ...              ...  \n",
              "1151  Unknown Location      3.9   Temporary Site  \n",
              "1152  Unknown Location     16.2          Meeting  \n",
              "1153           Gampaha      6.4   Temporary Site  \n",
              "1154         Ilukwatta     48.2   Temporary Site  \n",
              "1155               NaN  12204.7              NaN  \n",
              "\n",
              "[1156 rows x 7 columns]"
            ]
          },
          "execution_count": 10,
          "metadata": {},
          "output_type": "execute_result"
        }
      ],
      "source": [
        "data = pd.read_csv('UberDrives.csv')\n",
        "data"
      ],
      "id": "0e7ef22a"
    },
    {
      "cell_type": "code",
      "execution_count": null,
      "metadata": {
        "colab": {
          "base_uri": "https://localhost:8080/"
        },
        "id": "a3008b0f",
        "outputId": "f92c0771-590d-4fe5-dd65-08600245f9dc"
      },
      "outputs": [
        {
          "data": {
            "text/plain": [
              "(1156, 7)"
            ]
          },
          "execution_count": 11,
          "metadata": {},
          "output_type": "execute_result"
        }
      ],
      "source": [
        "data.shape"
      ],
      "id": "a3008b0f"
    },
    {
      "cell_type": "code",
      "execution_count": null,
      "metadata": {
        "colab": {
          "base_uri": "https://localhost:8080/"
        },
        "id": "a4e1310e",
        "outputId": "e6b089ca-820d-480e-dae7-06d3ff9b9276"
      },
      "outputs": [
        {
          "name": "stdout",
          "output_type": "stream",
          "text": [
            "<class 'pandas.core.frame.DataFrame'>\n",
            "RangeIndex: 1156 entries, 0 to 1155\n",
            "Data columns (total 7 columns):\n",
            " #   Column       Non-Null Count  Dtype  \n",
            "---  ------       --------------  -----  \n",
            " 0   START_DATE*  1156 non-null   object \n",
            " 1   END_DATE*    1155 non-null   object \n",
            " 2   CATEGORY*    1155 non-null   object \n",
            " 3   START*       1155 non-null   object \n",
            " 4   STOP*        1155 non-null   object \n",
            " 5   MILES*       1156 non-null   float64\n",
            " 6   PURPOSE*     653 non-null    object \n",
            "dtypes: float64(1), object(6)\n",
            "memory usage: 63.3+ KB\n"
          ]
        }
      ],
      "source": [
        "data.info()"
      ],
      "id": "a4e1310e"
    },
    {
      "cell_type": "code",
      "execution_count": null,
      "metadata": {
        "colab": {
          "base_uri": "https://localhost:8080/",
          "height": 206
        },
        "id": "0824733c",
        "outputId": "0afcd8d0-ecec-4849-ca7b-280b93d31250"
      },
      "outputs": [
        {
          "data": {
            "text/html": [
              "<div>\n",
              "<style scoped>\n",
              "    .dataframe tbody tr th:only-of-type {\n",
              "        vertical-align: middle;\n",
              "    }\n",
              "\n",
              "    .dataframe tbody tr th {\n",
              "        vertical-align: top;\n",
              "    }\n",
              "\n",
              "    .dataframe thead th {\n",
              "        text-align: right;\n",
              "    }\n",
              "</style>\n",
              "<table border=\"1\" class=\"dataframe\">\n",
              "  <thead>\n",
              "    <tr style=\"text-align: right;\">\n",
              "      <th></th>\n",
              "      <th>START_DATE*</th>\n",
              "      <th>END_DATE*</th>\n",
              "      <th>CATEGORY*</th>\n",
              "      <th>START*</th>\n",
              "      <th>STOP*</th>\n",
              "      <th>MILES*</th>\n",
              "      <th>PURPOSE*</th>\n",
              "    </tr>\n",
              "  </thead>\n",
              "  <tbody>\n",
              "    <tr>\n",
              "      <th>0</th>\n",
              "      <td>1/1/2016 21:11</td>\n",
              "      <td>1/1/2016 21:17</td>\n",
              "      <td>Business</td>\n",
              "      <td>Fort Pierce</td>\n",
              "      <td>Fort Pierce</td>\n",
              "      <td>5.1</td>\n",
              "      <td>Meal/Entertain</td>\n",
              "    </tr>\n",
              "    <tr>\n",
              "      <th>1</th>\n",
              "      <td>1/2/2016 1:25</td>\n",
              "      <td>1/2/2016 1:37</td>\n",
              "      <td>Business</td>\n",
              "      <td>Fort Pierce</td>\n",
              "      <td>Fort Pierce</td>\n",
              "      <td>5.0</td>\n",
              "      <td>NaN</td>\n",
              "    </tr>\n",
              "    <tr>\n",
              "      <th>2</th>\n",
              "      <td>1/2/2016 20:25</td>\n",
              "      <td>1/2/2016 20:38</td>\n",
              "      <td>Business</td>\n",
              "      <td>Fort Pierce</td>\n",
              "      <td>Fort Pierce</td>\n",
              "      <td>4.8</td>\n",
              "      <td>Errand/Supplies</td>\n",
              "    </tr>\n",
              "    <tr>\n",
              "      <th>3</th>\n",
              "      <td>1/5/2016 17:31</td>\n",
              "      <td>1/5/2016 17:45</td>\n",
              "      <td>Business</td>\n",
              "      <td>Fort Pierce</td>\n",
              "      <td>Fort Pierce</td>\n",
              "      <td>4.7</td>\n",
              "      <td>Meeting</td>\n",
              "    </tr>\n",
              "    <tr>\n",
              "      <th>4</th>\n",
              "      <td>1/6/2016 14:42</td>\n",
              "      <td>1/6/2016 15:49</td>\n",
              "      <td>Business</td>\n",
              "      <td>Fort Pierce</td>\n",
              "      <td>West Palm Beach</td>\n",
              "      <td>63.7</td>\n",
              "      <td>Customer Visit</td>\n",
              "    </tr>\n",
              "  </tbody>\n",
              "</table>\n",
              "</div>"
            ],
            "text/plain": [
              "      START_DATE*       END_DATE* CATEGORY*       START*            STOP*  \\\n",
              "0  1/1/2016 21:11  1/1/2016 21:17  Business  Fort Pierce      Fort Pierce   \n",
              "1   1/2/2016 1:25   1/2/2016 1:37  Business  Fort Pierce      Fort Pierce   \n",
              "2  1/2/2016 20:25  1/2/2016 20:38  Business  Fort Pierce      Fort Pierce   \n",
              "3  1/5/2016 17:31  1/5/2016 17:45  Business  Fort Pierce      Fort Pierce   \n",
              "4  1/6/2016 14:42  1/6/2016 15:49  Business  Fort Pierce  West Palm Beach   \n",
              "\n",
              "   MILES*         PURPOSE*  \n",
              "0     5.1   Meal/Entertain  \n",
              "1     5.0              NaN  \n",
              "2     4.8  Errand/Supplies  \n",
              "3     4.7          Meeting  \n",
              "4    63.7   Customer Visit  "
            ]
          },
          "execution_count": 13,
          "metadata": {},
          "output_type": "execute_result"
        }
      ],
      "source": [
        "data.head()"
      ],
      "id": "0824733c"
    },
    {
      "cell_type": "code",
      "execution_count": null,
      "metadata": {
        "colab": {
          "base_uri": "https://localhost:8080/",
          "height": 206
        },
        "id": "aad621d7",
        "outputId": "6595f75b-51b3-4759-adf3-3dd9b982a679"
      },
      "outputs": [
        {
          "data": {
            "text/html": [
              "<div>\n",
              "<style scoped>\n",
              "    .dataframe tbody tr th:only-of-type {\n",
              "        vertical-align: middle;\n",
              "    }\n",
              "\n",
              "    .dataframe tbody tr th {\n",
              "        vertical-align: top;\n",
              "    }\n",
              "\n",
              "    .dataframe thead th {\n",
              "        text-align: right;\n",
              "    }\n",
              "</style>\n",
              "<table border=\"1\" class=\"dataframe\">\n",
              "  <thead>\n",
              "    <tr style=\"text-align: right;\">\n",
              "      <th></th>\n",
              "      <th>START_DATE*</th>\n",
              "      <th>END_DATE*</th>\n",
              "      <th>CATEGORY*</th>\n",
              "      <th>START*</th>\n",
              "      <th>STOP*</th>\n",
              "      <th>MILES*</th>\n",
              "      <th>PURPOSE*</th>\n",
              "    </tr>\n",
              "  </thead>\n",
              "  <tbody>\n",
              "    <tr>\n",
              "      <th>1151</th>\n",
              "      <td>12/31/2016 13:24</td>\n",
              "      <td>12/31/2016 13:42</td>\n",
              "      <td>Business</td>\n",
              "      <td>Kar?chi</td>\n",
              "      <td>Unknown Location</td>\n",
              "      <td>3.9</td>\n",
              "      <td>Temporary Site</td>\n",
              "    </tr>\n",
              "    <tr>\n",
              "      <th>1152</th>\n",
              "      <td>12/31/2016 15:03</td>\n",
              "      <td>12/31/2016 15:38</td>\n",
              "      <td>Business</td>\n",
              "      <td>Unknown Location</td>\n",
              "      <td>Unknown Location</td>\n",
              "      <td>16.2</td>\n",
              "      <td>Meeting</td>\n",
              "    </tr>\n",
              "    <tr>\n",
              "      <th>1153</th>\n",
              "      <td>12/31/2016 21:32</td>\n",
              "      <td>12/31/2016 21:50</td>\n",
              "      <td>Business</td>\n",
              "      <td>Katunayake</td>\n",
              "      <td>Gampaha</td>\n",
              "      <td>6.4</td>\n",
              "      <td>Temporary Site</td>\n",
              "    </tr>\n",
              "    <tr>\n",
              "      <th>1154</th>\n",
              "      <td>12/31/2016 22:08</td>\n",
              "      <td>12/31/2016 23:51</td>\n",
              "      <td>Business</td>\n",
              "      <td>Gampaha</td>\n",
              "      <td>Ilukwatta</td>\n",
              "      <td>48.2</td>\n",
              "      <td>Temporary Site</td>\n",
              "    </tr>\n",
              "    <tr>\n",
              "      <th>1155</th>\n",
              "      <td>Totals</td>\n",
              "      <td>NaN</td>\n",
              "      <td>NaN</td>\n",
              "      <td>NaN</td>\n",
              "      <td>NaN</td>\n",
              "      <td>12204.7</td>\n",
              "      <td>NaN</td>\n",
              "    </tr>\n",
              "  </tbody>\n",
              "</table>\n",
              "</div>"
            ],
            "text/plain": [
              "           START_DATE*         END_DATE* CATEGORY*            START*  \\\n",
              "1151  12/31/2016 13:24  12/31/2016 13:42  Business           Kar?chi   \n",
              "1152  12/31/2016 15:03  12/31/2016 15:38  Business  Unknown Location   \n",
              "1153  12/31/2016 21:32  12/31/2016 21:50  Business        Katunayake   \n",
              "1154  12/31/2016 22:08  12/31/2016 23:51  Business           Gampaha   \n",
              "1155            Totals               NaN       NaN               NaN   \n",
              "\n",
              "                 STOP*   MILES*        PURPOSE*  \n",
              "1151  Unknown Location      3.9  Temporary Site  \n",
              "1152  Unknown Location     16.2         Meeting  \n",
              "1153           Gampaha      6.4  Temporary Site  \n",
              "1154         Ilukwatta     48.2  Temporary Site  \n",
              "1155               NaN  12204.7             NaN  "
            ]
          },
          "execution_count": 14,
          "metadata": {},
          "output_type": "execute_result"
        }
      ],
      "source": [
        "data.tail()"
      ],
      "id": "aad621d7"
    },
    {
      "cell_type": "markdown",
      "metadata": {
        "id": "85db08d3"
      },
      "source": [
        "#### Dropping last row as it is NOT actual data about particular trip. It only exists for Miles\n",
        "\n",
        "\n"
      ],
      "id": "85db08d3"
    },
    {
      "cell_type": "code",
      "execution_count": null,
      "metadata": {
        "id": "e0055b42"
      },
      "outputs": [],
      "source": [
        "data.drop(1155, inplace=True)"
      ],
      "id": "e0055b42"
    },
    {
      "cell_type": "code",
      "execution_count": null,
      "metadata": {
        "colab": {
          "base_uri": "https://localhost:8080/",
          "height": 206
        },
        "id": "a0a0fa33",
        "outputId": "2078dcd4-4b91-40a2-8127-64150a575e87"
      },
      "outputs": [
        {
          "data": {
            "text/html": [
              "<div>\n",
              "<style scoped>\n",
              "    .dataframe tbody tr th:only-of-type {\n",
              "        vertical-align: middle;\n",
              "    }\n",
              "\n",
              "    .dataframe tbody tr th {\n",
              "        vertical-align: top;\n",
              "    }\n",
              "\n",
              "    .dataframe thead th {\n",
              "        text-align: right;\n",
              "    }\n",
              "</style>\n",
              "<table border=\"1\" class=\"dataframe\">\n",
              "  <thead>\n",
              "    <tr style=\"text-align: right;\">\n",
              "      <th></th>\n",
              "      <th>START_DATE*</th>\n",
              "      <th>END_DATE*</th>\n",
              "      <th>CATEGORY*</th>\n",
              "      <th>START*</th>\n",
              "      <th>STOP*</th>\n",
              "      <th>MILES*</th>\n",
              "      <th>PURPOSE*</th>\n",
              "    </tr>\n",
              "  </thead>\n",
              "  <tbody>\n",
              "    <tr>\n",
              "      <th>1150</th>\n",
              "      <td>12/31/2016 1:07</td>\n",
              "      <td>12/31/2016 1:14</td>\n",
              "      <td>Business</td>\n",
              "      <td>Kar?chi</td>\n",
              "      <td>Kar?chi</td>\n",
              "      <td>0.7</td>\n",
              "      <td>Meeting</td>\n",
              "    </tr>\n",
              "    <tr>\n",
              "      <th>1151</th>\n",
              "      <td>12/31/2016 13:24</td>\n",
              "      <td>12/31/2016 13:42</td>\n",
              "      <td>Business</td>\n",
              "      <td>Kar?chi</td>\n",
              "      <td>Unknown Location</td>\n",
              "      <td>3.9</td>\n",
              "      <td>Temporary Site</td>\n",
              "    </tr>\n",
              "    <tr>\n",
              "      <th>1152</th>\n",
              "      <td>12/31/2016 15:03</td>\n",
              "      <td>12/31/2016 15:38</td>\n",
              "      <td>Business</td>\n",
              "      <td>Unknown Location</td>\n",
              "      <td>Unknown Location</td>\n",
              "      <td>16.2</td>\n",
              "      <td>Meeting</td>\n",
              "    </tr>\n",
              "    <tr>\n",
              "      <th>1153</th>\n",
              "      <td>12/31/2016 21:32</td>\n",
              "      <td>12/31/2016 21:50</td>\n",
              "      <td>Business</td>\n",
              "      <td>Katunayake</td>\n",
              "      <td>Gampaha</td>\n",
              "      <td>6.4</td>\n",
              "      <td>Temporary Site</td>\n",
              "    </tr>\n",
              "    <tr>\n",
              "      <th>1154</th>\n",
              "      <td>12/31/2016 22:08</td>\n",
              "      <td>12/31/2016 23:51</td>\n",
              "      <td>Business</td>\n",
              "      <td>Gampaha</td>\n",
              "      <td>Ilukwatta</td>\n",
              "      <td>48.2</td>\n",
              "      <td>Temporary Site</td>\n",
              "    </tr>\n",
              "  </tbody>\n",
              "</table>\n",
              "</div>"
            ],
            "text/plain": [
              "           START_DATE*         END_DATE* CATEGORY*            START*  \\\n",
              "1150   12/31/2016 1:07   12/31/2016 1:14  Business           Kar?chi   \n",
              "1151  12/31/2016 13:24  12/31/2016 13:42  Business           Kar?chi   \n",
              "1152  12/31/2016 15:03  12/31/2016 15:38  Business  Unknown Location   \n",
              "1153  12/31/2016 21:32  12/31/2016 21:50  Business        Katunayake   \n",
              "1154  12/31/2016 22:08  12/31/2016 23:51  Business           Gampaha   \n",
              "\n",
              "                 STOP*  MILES*        PURPOSE*  \n",
              "1150           Kar?chi     0.7         Meeting  \n",
              "1151  Unknown Location     3.9  Temporary Site  \n",
              "1152  Unknown Location    16.2         Meeting  \n",
              "1153           Gampaha     6.4  Temporary Site  \n",
              "1154         Ilukwatta    48.2  Temporary Site  "
            ]
          },
          "execution_count": 16,
          "metadata": {},
          "output_type": "execute_result"
        }
      ],
      "source": [
        "data.tail()"
      ],
      "id": "a0a0fa33"
    },
    {
      "cell_type": "markdown",
      "metadata": {
        "id": "a36abf11"
      },
      "source": [
        "#### Is there any column having missing values?\n",
        "\n"
      ],
      "id": "a36abf11"
    },
    {
      "cell_type": "code",
      "execution_count": null,
      "metadata": {
        "colab": {
          "base_uri": "https://localhost:8080/"
        },
        "id": "HW4sFuiJE_Se",
        "outputId": "80862e87-5930-4482-8058-47ba20418440"
      },
      "outputs": [
        {
          "data": {
            "text/plain": [
              "START_DATE*      0\n",
              "END_DATE*        0\n",
              "CATEGORY*        0\n",
              "START*           0\n",
              "STOP*            0\n",
              "MILES*           0\n",
              "PURPOSE*       502\n",
              "dtype: int64"
            ]
          },
          "execution_count": 17,
          "metadata": {},
          "output_type": "execute_result"
        }
      ],
      "source": [
        "data.isnull().sum()"
      ],
      "id": "HW4sFuiJE_Se"
    },
    {
      "cell_type": "markdown",
      "metadata": {
        "id": "KuDYcmczFBya"
      },
      "source": [
        "#### Are there any duplicates values? "
      ],
      "id": "KuDYcmczFBya"
    },
    {
      "cell_type": "code",
      "execution_count": null,
      "metadata": {
        "colab": {
          "base_uri": "https://localhost:8080/",
          "height": 81
        },
        "id": "9HnNTeYTFEAn",
        "outputId": "d3bd067a-7de0-41d3-e488-4442ab82ea64"
      },
      "outputs": [
        {
          "data": {
            "text/html": [
              "<div>\n",
              "<style scoped>\n",
              "    .dataframe tbody tr th:only-of-type {\n",
              "        vertical-align: middle;\n",
              "    }\n",
              "\n",
              "    .dataframe tbody tr th {\n",
              "        vertical-align: top;\n",
              "    }\n",
              "\n",
              "    .dataframe thead th {\n",
              "        text-align: right;\n",
              "    }\n",
              "</style>\n",
              "<table border=\"1\" class=\"dataframe\">\n",
              "  <thead>\n",
              "    <tr style=\"text-align: right;\">\n",
              "      <th></th>\n",
              "      <th>START_DATE*</th>\n",
              "      <th>END_DATE*</th>\n",
              "      <th>CATEGORY*</th>\n",
              "      <th>START*</th>\n",
              "      <th>STOP*</th>\n",
              "      <th>MILES*</th>\n",
              "      <th>PURPOSE*</th>\n",
              "    </tr>\n",
              "  </thead>\n",
              "  <tbody>\n",
              "    <tr>\n",
              "      <th>492</th>\n",
              "      <td>6/28/2016 23:34</td>\n",
              "      <td>6/28/2016 23:59</td>\n",
              "      <td>Business</td>\n",
              "      <td>Durham</td>\n",
              "      <td>Cary</td>\n",
              "      <td>9.9</td>\n",
              "      <td>Meeting</td>\n",
              "    </tr>\n",
              "  </tbody>\n",
              "</table>\n",
              "</div>"
            ],
            "text/plain": [
              "         START_DATE*        END_DATE* CATEGORY*  START* STOP*  MILES* PURPOSE*\n",
              "492  6/28/2016 23:34  6/28/2016 23:59  Business  Durham  Cary     9.9  Meeting"
            ]
          },
          "execution_count": 18,
          "metadata": {},
          "output_type": "execute_result"
        }
      ],
      "source": [
        "data[data.duplicated()]"
      ],
      "id": "9HnNTeYTFEAn"
    },
    {
      "cell_type": "markdown",
      "metadata": {
        "id": "_QVaVhtDFHGK"
      },
      "source": [
        "**Drop Duplicates:**\n"
      ],
      "id": "_QVaVhtDFHGK"
    },
    {
      "cell_type": "code",
      "execution_count": null,
      "metadata": {
        "id": "uSaNvAo4FKPT"
      },
      "outputs": [],
      "source": [
        "data.drop_duplicates(inplace=True)"
      ],
      "id": "uSaNvAo4FKPT"
    },
    {
      "cell_type": "markdown",
      "metadata": {
        "id": "SzuWK5ksGctW"
      },
      "source": [
        "#### Notice each column label has a `*` at the end?\n",
        "\n",
        "#### Can we do something to remove this?\n",
        "- List comprehension\n"
      ],
      "id": "SzuWK5ksGctW"
    },
    {
      "cell_type": "code",
      "execution_count": null,
      "metadata": {
        "id": "a053fca7"
      },
      "outputs": [],
      "source": [
        "data.columns = [x[:-1] for x in data.columns]"
      ],
      "id": "a053fca7"
    },
    {
      "cell_type": "code",
      "execution_count": null,
      "metadata": {
        "colab": {
          "base_uri": "https://localhost:8080/",
          "height": 206
        },
        "id": "0575d040",
        "outputId": "0394bb04-524d-4374-f4f1-ca2e864da63b"
      },
      "outputs": [
        {
          "data": {
            "text/html": [
              "<div>\n",
              "<style scoped>\n",
              "    .dataframe tbody tr th:only-of-type {\n",
              "        vertical-align: middle;\n",
              "    }\n",
              "\n",
              "    .dataframe tbody tr th {\n",
              "        vertical-align: top;\n",
              "    }\n",
              "\n",
              "    .dataframe thead th {\n",
              "        text-align: right;\n",
              "    }\n",
              "</style>\n",
              "<table border=\"1\" class=\"dataframe\">\n",
              "  <thead>\n",
              "    <tr style=\"text-align: right;\">\n",
              "      <th></th>\n",
              "      <th>START_DATE</th>\n",
              "      <th>END_DATE</th>\n",
              "      <th>CATEGORY</th>\n",
              "      <th>START</th>\n",
              "      <th>STOP</th>\n",
              "      <th>MILES</th>\n",
              "      <th>PURPOSE</th>\n",
              "    </tr>\n",
              "  </thead>\n",
              "  <tbody>\n",
              "    <tr>\n",
              "      <th>0</th>\n",
              "      <td>1/1/2016 21:11</td>\n",
              "      <td>1/1/2016 21:17</td>\n",
              "      <td>Business</td>\n",
              "      <td>Fort Pierce</td>\n",
              "      <td>Fort Pierce</td>\n",
              "      <td>5.1</td>\n",
              "      <td>Meal/Entertain</td>\n",
              "    </tr>\n",
              "    <tr>\n",
              "      <th>1</th>\n",
              "      <td>1/2/2016 1:25</td>\n",
              "      <td>1/2/2016 1:37</td>\n",
              "      <td>Business</td>\n",
              "      <td>Fort Pierce</td>\n",
              "      <td>Fort Pierce</td>\n",
              "      <td>5.0</td>\n",
              "      <td>NaN</td>\n",
              "    </tr>\n",
              "    <tr>\n",
              "      <th>2</th>\n",
              "      <td>1/2/2016 20:25</td>\n",
              "      <td>1/2/2016 20:38</td>\n",
              "      <td>Business</td>\n",
              "      <td>Fort Pierce</td>\n",
              "      <td>Fort Pierce</td>\n",
              "      <td>4.8</td>\n",
              "      <td>Errand/Supplies</td>\n",
              "    </tr>\n",
              "    <tr>\n",
              "      <th>3</th>\n",
              "      <td>1/5/2016 17:31</td>\n",
              "      <td>1/5/2016 17:45</td>\n",
              "      <td>Business</td>\n",
              "      <td>Fort Pierce</td>\n",
              "      <td>Fort Pierce</td>\n",
              "      <td>4.7</td>\n",
              "      <td>Meeting</td>\n",
              "    </tr>\n",
              "    <tr>\n",
              "      <th>4</th>\n",
              "      <td>1/6/2016 14:42</td>\n",
              "      <td>1/6/2016 15:49</td>\n",
              "      <td>Business</td>\n",
              "      <td>Fort Pierce</td>\n",
              "      <td>West Palm Beach</td>\n",
              "      <td>63.7</td>\n",
              "      <td>Customer Visit</td>\n",
              "    </tr>\n",
              "  </tbody>\n",
              "</table>\n",
              "</div>"
            ],
            "text/plain": [
              "       START_DATE        END_DATE  CATEGORY        START             STOP  \\\n",
              "0  1/1/2016 21:11  1/1/2016 21:17  Business  Fort Pierce      Fort Pierce   \n",
              "1   1/2/2016 1:25   1/2/2016 1:37  Business  Fort Pierce      Fort Pierce   \n",
              "2  1/2/2016 20:25  1/2/2016 20:38  Business  Fort Pierce      Fort Pierce   \n",
              "3  1/5/2016 17:31  1/5/2016 17:45  Business  Fort Pierce      Fort Pierce   \n",
              "4  1/6/2016 14:42  1/6/2016 15:49  Business  Fort Pierce  West Palm Beach   \n",
              "\n",
              "   MILES          PURPOSE  \n",
              "0    5.1   Meal/Entertain  \n",
              "1    5.0              NaN  \n",
              "2    4.8  Errand/Supplies  \n",
              "3    4.7          Meeting  \n",
              "4   63.7   Customer Visit  "
            ]
          },
          "execution_count": 21,
          "metadata": {},
          "output_type": "execute_result"
        }
      ],
      "source": [
        "data.head()"
      ],
      "id": "0575d040"
    },
    {
      "cell_type": "markdown",
      "metadata": {
        "id": "6xxJoFcfFCzX"
      },
      "source": [
        "\n",
        "### Handling Date-Time data\n",
        "\n",
        "\n",
        "  - `to_datetime()`\n",
        "  \n",
        "  \n",
        "  - It takes as input:\n",
        "    - Array/Scalars with values having proper date/time format\n",
        "    - `dayfirst`: Indicating if the day comes first in the date format used\n",
        "    - `yearfirst`: Indicates if year comes first in the date format\n",
        "\n",
        "Refer: https://pandas.pydata.org/docs/reference/api/pandas.to_datetime.html"
      ],
      "id": "6xxJoFcfFCzX"
    },
    {
      "cell_type": "code",
      "execution_count": null,
      "metadata": {
        "colab": {
          "base_uri": "https://localhost:8080/",
          "height": 424
        },
        "id": "ac0215f0",
        "outputId": "66d816ec-76a7-4deb-bbf1-4f25c09478ec"
      },
      "outputs": [
        {
          "data": {
            "text/html": [
              "<div>\n",
              "<style scoped>\n",
              "    .dataframe tbody tr th:only-of-type {\n",
              "        vertical-align: middle;\n",
              "    }\n",
              "\n",
              "    .dataframe tbody tr th {\n",
              "        vertical-align: top;\n",
              "    }\n",
              "\n",
              "    .dataframe thead th {\n",
              "        text-align: right;\n",
              "    }\n",
              "</style>\n",
              "<table border=\"1\" class=\"dataframe\">\n",
              "  <thead>\n",
              "    <tr style=\"text-align: right;\">\n",
              "      <th></th>\n",
              "      <th>START_DATE</th>\n",
              "      <th>END_DATE</th>\n",
              "      <th>CATEGORY</th>\n",
              "      <th>START</th>\n",
              "      <th>STOP</th>\n",
              "      <th>MILES</th>\n",
              "      <th>PURPOSE</th>\n",
              "    </tr>\n",
              "  </thead>\n",
              "  <tbody>\n",
              "    <tr>\n",
              "      <th>0</th>\n",
              "      <td>2016-01-01 21:11:00</td>\n",
              "      <td>1/1/2016 21:17</td>\n",
              "      <td>Business</td>\n",
              "      <td>Fort Pierce</td>\n",
              "      <td>Fort Pierce</td>\n",
              "      <td>5.1</td>\n",
              "      <td>Meal/Entertain</td>\n",
              "    </tr>\n",
              "    <tr>\n",
              "      <th>1</th>\n",
              "      <td>2016-01-02 01:25:00</td>\n",
              "      <td>1/2/2016 1:37</td>\n",
              "      <td>Business</td>\n",
              "      <td>Fort Pierce</td>\n",
              "      <td>Fort Pierce</td>\n",
              "      <td>5.0</td>\n",
              "      <td>NaN</td>\n",
              "    </tr>\n",
              "    <tr>\n",
              "      <th>2</th>\n",
              "      <td>2016-01-02 20:25:00</td>\n",
              "      <td>1/2/2016 20:38</td>\n",
              "      <td>Business</td>\n",
              "      <td>Fort Pierce</td>\n",
              "      <td>Fort Pierce</td>\n",
              "      <td>4.8</td>\n",
              "      <td>Errand/Supplies</td>\n",
              "    </tr>\n",
              "    <tr>\n",
              "      <th>3</th>\n",
              "      <td>2016-01-05 17:31:00</td>\n",
              "      <td>1/5/2016 17:45</td>\n",
              "      <td>Business</td>\n",
              "      <td>Fort Pierce</td>\n",
              "      <td>Fort Pierce</td>\n",
              "      <td>4.7</td>\n",
              "      <td>Meeting</td>\n",
              "    </tr>\n",
              "    <tr>\n",
              "      <th>4</th>\n",
              "      <td>2016-01-06 14:42:00</td>\n",
              "      <td>1/6/2016 15:49</td>\n",
              "      <td>Business</td>\n",
              "      <td>Fort Pierce</td>\n",
              "      <td>West Palm Beach</td>\n",
              "      <td>63.7</td>\n",
              "      <td>Customer Visit</td>\n",
              "    </tr>\n",
              "    <tr>\n",
              "      <th>...</th>\n",
              "      <td>...</td>\n",
              "      <td>...</td>\n",
              "      <td>...</td>\n",
              "      <td>...</td>\n",
              "      <td>...</td>\n",
              "      <td>...</td>\n",
              "      <td>...</td>\n",
              "    </tr>\n",
              "    <tr>\n",
              "      <th>1150</th>\n",
              "      <td>2016-12-31 01:07:00</td>\n",
              "      <td>12/31/2016 1:14</td>\n",
              "      <td>Business</td>\n",
              "      <td>Kar?chi</td>\n",
              "      <td>Kar?chi</td>\n",
              "      <td>0.7</td>\n",
              "      <td>Meeting</td>\n",
              "    </tr>\n",
              "    <tr>\n",
              "      <th>1151</th>\n",
              "      <td>2016-12-31 13:24:00</td>\n",
              "      <td>12/31/2016 13:42</td>\n",
              "      <td>Business</td>\n",
              "      <td>Kar?chi</td>\n",
              "      <td>Unknown Location</td>\n",
              "      <td>3.9</td>\n",
              "      <td>Temporary Site</td>\n",
              "    </tr>\n",
              "    <tr>\n",
              "      <th>1152</th>\n",
              "      <td>2016-12-31 15:03:00</td>\n",
              "      <td>12/31/2016 15:38</td>\n",
              "      <td>Business</td>\n",
              "      <td>Unknown Location</td>\n",
              "      <td>Unknown Location</td>\n",
              "      <td>16.2</td>\n",
              "      <td>Meeting</td>\n",
              "    </tr>\n",
              "    <tr>\n",
              "      <th>1153</th>\n",
              "      <td>2016-12-31 21:32:00</td>\n",
              "      <td>12/31/2016 21:50</td>\n",
              "      <td>Business</td>\n",
              "      <td>Katunayake</td>\n",
              "      <td>Gampaha</td>\n",
              "      <td>6.4</td>\n",
              "      <td>Temporary Site</td>\n",
              "    </tr>\n",
              "    <tr>\n",
              "      <th>1154</th>\n",
              "      <td>2016-12-31 22:08:00</td>\n",
              "      <td>12/31/2016 23:51</td>\n",
              "      <td>Business</td>\n",
              "      <td>Gampaha</td>\n",
              "      <td>Ilukwatta</td>\n",
              "      <td>48.2</td>\n",
              "      <td>Temporary Site</td>\n",
              "    </tr>\n",
              "  </tbody>\n",
              "</table>\n",
              "<p>1154 rows × 7 columns</p>\n",
              "</div>"
            ],
            "text/plain": [
              "              START_DATE          END_DATE  CATEGORY             START  \\\n",
              "0    2016-01-01 21:11:00    1/1/2016 21:17  Business       Fort Pierce   \n",
              "1    2016-01-02 01:25:00     1/2/2016 1:37  Business       Fort Pierce   \n",
              "2    2016-01-02 20:25:00    1/2/2016 20:38  Business       Fort Pierce   \n",
              "3    2016-01-05 17:31:00    1/5/2016 17:45  Business       Fort Pierce   \n",
              "4    2016-01-06 14:42:00    1/6/2016 15:49  Business       Fort Pierce   \n",
              "...                  ...               ...       ...               ...   \n",
              "1150 2016-12-31 01:07:00   12/31/2016 1:14  Business           Kar?chi   \n",
              "1151 2016-12-31 13:24:00  12/31/2016 13:42  Business           Kar?chi   \n",
              "1152 2016-12-31 15:03:00  12/31/2016 15:38  Business  Unknown Location   \n",
              "1153 2016-12-31 21:32:00  12/31/2016 21:50  Business        Katunayake   \n",
              "1154 2016-12-31 22:08:00  12/31/2016 23:51  Business           Gampaha   \n",
              "\n",
              "                  STOP  MILES          PURPOSE  \n",
              "0          Fort Pierce    5.1   Meal/Entertain  \n",
              "1          Fort Pierce    5.0              NaN  \n",
              "2          Fort Pierce    4.8  Errand/Supplies  \n",
              "3          Fort Pierce    4.7          Meeting  \n",
              "4      West Palm Beach   63.7   Customer Visit  \n",
              "...                ...    ...              ...  \n",
              "1150           Kar?chi    0.7          Meeting  \n",
              "1151  Unknown Location    3.9   Temporary Site  \n",
              "1152  Unknown Location   16.2          Meeting  \n",
              "1153           Gampaha    6.4   Temporary Site  \n",
              "1154         Ilukwatta   48.2   Temporary Site  \n",
              "\n",
              "[1154 rows x 7 columns]"
            ]
          },
          "execution_count": 22,
          "metadata": {},
          "output_type": "execute_result"
        }
      ],
      "source": [
        "data['START_DATE'] = pd.to_datetime(data['START_DATE']) # will leave to explore how you can mention datetime format by your own\n",
        "\n",
        "data"
      ],
      "id": "ac0215f0"
    },
    {
      "cell_type": "code",
      "execution_count": null,
      "metadata": {
        "colab": {
          "base_uri": "https://localhost:8080/"
        },
        "id": "686c3076",
        "outputId": "7a750a70-f682-4cf3-e478-cbc731a26282"
      },
      "outputs": [
        {
          "name": "stdout",
          "output_type": "stream",
          "text": [
            "<class 'pandas.core.frame.DataFrame'>\n",
            "Int64Index: 1154 entries, 0 to 1154\n",
            "Data columns (total 7 columns):\n",
            " #   Column      Non-Null Count  Dtype         \n",
            "---  ------      --------------  -----         \n",
            " 0   START_DATE  1154 non-null   datetime64[ns]\n",
            " 1   END_DATE    1154 non-null   object        \n",
            " 2   CATEGORY    1154 non-null   object        \n",
            " 3   START       1154 non-null   object        \n",
            " 4   STOP        1154 non-null   object        \n",
            " 5   MILES       1154 non-null   float64       \n",
            " 6   PURPOSE     652 non-null    object        \n",
            "dtypes: datetime64[ns](1), float64(1), object(5)\n",
            "memory usage: 72.1+ KB\n"
          ]
        }
      ],
      "source": [
        "data.info()"
      ],
      "id": "686c3076"
    },
    {
      "cell_type": "code",
      "execution_count": null,
      "metadata": {
        "colab": {
          "base_uri": "https://localhost:8080/"
        },
        "id": "9d01bfef",
        "outputId": "ebf6b27d-a1ef-4e70-f506-83b251cd8aae"
      },
      "outputs": [
        {
          "name": "stdout",
          "output_type": "stream",
          "text": [
            "<class 'pandas.core.frame.DataFrame'>\n",
            "Int64Index: 1154 entries, 0 to 1154\n",
            "Data columns (total 7 columns):\n",
            " #   Column      Non-Null Count  Dtype         \n",
            "---  ------      --------------  -----         \n",
            " 0   START_DATE  1154 non-null   datetime64[ns]\n",
            " 1   END_DATE    1154 non-null   datetime64[ns]\n",
            " 2   CATEGORY    1154 non-null   object        \n",
            " 3   START       1154 non-null   object        \n",
            " 4   STOP        1154 non-null   object        \n",
            " 5   MILES       1154 non-null   float64       \n",
            " 6   PURPOSE     652 non-null    object        \n",
            "dtypes: datetime64[ns](2), float64(1), object(4)\n",
            "memory usage: 72.1+ KB\n"
          ]
        }
      ],
      "source": [
        "data['END_DATE'] = pd.to_datetime(data['END_DATE'])\n",
        "data.info()"
      ],
      "id": "9d01bfef"
    },
    {
      "cell_type": "markdown",
      "metadata": {
        "id": "X68i6T8TmItB"
      },
      "source": [
        "### Cross Check for rows where start timestamp and end timestamp are same ?\n",
        "\n",
        "#### Because having exactly zero miles is not  really possible\n",
        "\n",
        "\n",
        "\n",
        "\n",
        "\n"
      ],
      "id": "X68i6T8TmItB"
    },
    {
      "cell_type": "code",
      "execution_count": null,
      "metadata": {
        "colab": {
          "base_uri": "https://localhost:8080/",
          "height": 175
        },
        "id": "s_QKF0S7m6cL",
        "outputId": "a9e71f30-7159-44f1-86d0-98da848fab63"
      },
      "outputs": [
        {
          "data": {
            "text/html": [
              "<div>\n",
              "<style scoped>\n",
              "    .dataframe tbody tr th:only-of-type {\n",
              "        vertical-align: middle;\n",
              "    }\n",
              "\n",
              "    .dataframe tbody tr th {\n",
              "        vertical-align: top;\n",
              "    }\n",
              "\n",
              "    .dataframe thead th {\n",
              "        text-align: right;\n",
              "    }\n",
              "</style>\n",
              "<table border=\"1\" class=\"dataframe\">\n",
              "  <thead>\n",
              "    <tr style=\"text-align: right;\">\n",
              "      <th></th>\n",
              "      <th>START_DATE</th>\n",
              "      <th>END_DATE</th>\n",
              "      <th>CATEGORY</th>\n",
              "      <th>START</th>\n",
              "      <th>STOP</th>\n",
              "      <th>MILES</th>\n",
              "      <th>PURPOSE</th>\n",
              "    </tr>\n",
              "  </thead>\n",
              "  <tbody>\n",
              "    <tr>\n",
              "      <th>751</th>\n",
              "      <td>2016-09-06 17:49:00</td>\n",
              "      <td>2016-09-06 17:49:00</td>\n",
              "      <td>Business</td>\n",
              "      <td>Unknown Location</td>\n",
              "      <td>Unknown Location</td>\n",
              "      <td>69.1</td>\n",
              "      <td>NaN</td>\n",
              "    </tr>\n",
              "    <tr>\n",
              "      <th>761</th>\n",
              "      <td>2016-09-16 07:08:00</td>\n",
              "      <td>2016-09-16 07:08:00</td>\n",
              "      <td>Business</td>\n",
              "      <td>Unknown Location</td>\n",
              "      <td>Unknown Location</td>\n",
              "      <td>1.6</td>\n",
              "      <td>NaN</td>\n",
              "    </tr>\n",
              "    <tr>\n",
              "      <th>798</th>\n",
              "      <td>2016-10-08 15:03:00</td>\n",
              "      <td>2016-10-08 15:03:00</td>\n",
              "      <td>Business</td>\n",
              "      <td>Karachi</td>\n",
              "      <td>Karachi</td>\n",
              "      <td>3.6</td>\n",
              "      <td>NaN</td>\n",
              "    </tr>\n",
              "    <tr>\n",
              "      <th>807</th>\n",
              "      <td>2016-10-13 13:02:00</td>\n",
              "      <td>2016-10-13 13:02:00</td>\n",
              "      <td>Business</td>\n",
              "      <td>Islamabad</td>\n",
              "      <td>Islamabad</td>\n",
              "      <td>0.7</td>\n",
              "      <td>NaN</td>\n",
              "    </tr>\n",
              "  </tbody>\n",
              "</table>\n",
              "</div>"
            ],
            "text/plain": [
              "             START_DATE            END_DATE  CATEGORY             START  \\\n",
              "751 2016-09-06 17:49:00 2016-09-06 17:49:00  Business  Unknown Location   \n",
              "761 2016-09-16 07:08:00 2016-09-16 07:08:00  Business  Unknown Location   \n",
              "798 2016-10-08 15:03:00 2016-10-08 15:03:00  Business           Karachi   \n",
              "807 2016-10-13 13:02:00 2016-10-13 13:02:00  Business         Islamabad   \n",
              "\n",
              "                 STOP  MILES PURPOSE  \n",
              "751  Unknown Location   69.1     NaN  \n",
              "761  Unknown Location    1.6     NaN  \n",
              "798           Karachi    3.6     NaN  \n",
              "807         Islamabad    0.7     NaN  "
            ]
          },
          "execution_count": 25,
          "metadata": {},
          "output_type": "execute_result"
        }
      ],
      "source": [
        "data[data['START_DATE']==data['END_DATE']]"
      ],
      "id": "s_QKF0S7m6cL"
    },
    {
      "cell_type": "code",
      "execution_count": null,
      "metadata": {
        "colab": {
          "base_uri": "https://localhost:8080/",
          "height": 423
        },
        "id": "dHMpn-IInXuV",
        "outputId": "83dc114a-b0f6-4fd8-a621-77c44f204235"
      },
      "outputs": [
        {
          "data": {
            "text/html": [
              "<div>\n",
              "<style scoped>\n",
              "    .dataframe tbody tr th:only-of-type {\n",
              "        vertical-align: middle;\n",
              "    }\n",
              "\n",
              "    .dataframe tbody tr th {\n",
              "        vertical-align: top;\n",
              "    }\n",
              "\n",
              "    .dataframe thead th {\n",
              "        text-align: right;\n",
              "    }\n",
              "</style>\n",
              "<table border=\"1\" class=\"dataframe\">\n",
              "  <thead>\n",
              "    <tr style=\"text-align: right;\">\n",
              "      <th></th>\n",
              "      <th>START_DATE</th>\n",
              "      <th>END_DATE</th>\n",
              "      <th>CATEGORY</th>\n",
              "      <th>START</th>\n",
              "      <th>STOP</th>\n",
              "      <th>MILES</th>\n",
              "      <th>PURPOSE</th>\n",
              "    </tr>\n",
              "  </thead>\n",
              "  <tbody>\n",
              "    <tr>\n",
              "      <th>0</th>\n",
              "      <td>2016-01-01 21:11:00</td>\n",
              "      <td>2016-01-01 21:17:00</td>\n",
              "      <td>Business</td>\n",
              "      <td>Fort Pierce</td>\n",
              "      <td>Fort Pierce</td>\n",
              "      <td>5.1</td>\n",
              "      <td>Meal/Entertain</td>\n",
              "    </tr>\n",
              "    <tr>\n",
              "      <th>1</th>\n",
              "      <td>2016-01-02 01:25:00</td>\n",
              "      <td>2016-01-02 01:37:00</td>\n",
              "      <td>Business</td>\n",
              "      <td>Fort Pierce</td>\n",
              "      <td>Fort Pierce</td>\n",
              "      <td>5.0</td>\n",
              "      <td>NaN</td>\n",
              "    </tr>\n",
              "    <tr>\n",
              "      <th>2</th>\n",
              "      <td>2016-01-02 20:25:00</td>\n",
              "      <td>2016-01-02 20:38:00</td>\n",
              "      <td>Business</td>\n",
              "      <td>Fort Pierce</td>\n",
              "      <td>Fort Pierce</td>\n",
              "      <td>4.8</td>\n",
              "      <td>Errand/Supplies</td>\n",
              "    </tr>\n",
              "    <tr>\n",
              "      <th>3</th>\n",
              "      <td>2016-01-05 17:31:00</td>\n",
              "      <td>2016-01-05 17:45:00</td>\n",
              "      <td>Business</td>\n",
              "      <td>Fort Pierce</td>\n",
              "      <td>Fort Pierce</td>\n",
              "      <td>4.7</td>\n",
              "      <td>Meeting</td>\n",
              "    </tr>\n",
              "    <tr>\n",
              "      <th>4</th>\n",
              "      <td>2016-01-06 14:42:00</td>\n",
              "      <td>2016-01-06 15:49:00</td>\n",
              "      <td>Business</td>\n",
              "      <td>Fort Pierce</td>\n",
              "      <td>West Palm Beach</td>\n",
              "      <td>63.7</td>\n",
              "      <td>Customer Visit</td>\n",
              "    </tr>\n",
              "    <tr>\n",
              "      <th>...</th>\n",
              "      <td>...</td>\n",
              "      <td>...</td>\n",
              "      <td>...</td>\n",
              "      <td>...</td>\n",
              "      <td>...</td>\n",
              "      <td>...</td>\n",
              "      <td>...</td>\n",
              "    </tr>\n",
              "    <tr>\n",
              "      <th>1150</th>\n",
              "      <td>2016-12-31 01:07:00</td>\n",
              "      <td>2016-12-31 01:14:00</td>\n",
              "      <td>Business</td>\n",
              "      <td>Kar?chi</td>\n",
              "      <td>Kar?chi</td>\n",
              "      <td>0.7</td>\n",
              "      <td>Meeting</td>\n",
              "    </tr>\n",
              "    <tr>\n",
              "      <th>1151</th>\n",
              "      <td>2016-12-31 13:24:00</td>\n",
              "      <td>2016-12-31 13:42:00</td>\n",
              "      <td>Business</td>\n",
              "      <td>Kar?chi</td>\n",
              "      <td>Unknown Location</td>\n",
              "      <td>3.9</td>\n",
              "      <td>Temporary Site</td>\n",
              "    </tr>\n",
              "    <tr>\n",
              "      <th>1152</th>\n",
              "      <td>2016-12-31 15:03:00</td>\n",
              "      <td>2016-12-31 15:38:00</td>\n",
              "      <td>Business</td>\n",
              "      <td>Unknown Location</td>\n",
              "      <td>Unknown Location</td>\n",
              "      <td>16.2</td>\n",
              "      <td>Meeting</td>\n",
              "    </tr>\n",
              "    <tr>\n",
              "      <th>1153</th>\n",
              "      <td>2016-12-31 21:32:00</td>\n",
              "      <td>2016-12-31 21:50:00</td>\n",
              "      <td>Business</td>\n",
              "      <td>Katunayake</td>\n",
              "      <td>Gampaha</td>\n",
              "      <td>6.4</td>\n",
              "      <td>Temporary Site</td>\n",
              "    </tr>\n",
              "    <tr>\n",
              "      <th>1154</th>\n",
              "      <td>2016-12-31 22:08:00</td>\n",
              "      <td>2016-12-31 23:51:00</td>\n",
              "      <td>Business</td>\n",
              "      <td>Gampaha</td>\n",
              "      <td>Ilukwatta</td>\n",
              "      <td>48.2</td>\n",
              "      <td>Temporary Site</td>\n",
              "    </tr>\n",
              "  </tbody>\n",
              "</table>\n",
              "<p>1150 rows × 7 columns</p>\n",
              "</div>"
            ],
            "text/plain": [
              "              START_DATE            END_DATE  CATEGORY             START  \\\n",
              "0    2016-01-01 21:11:00 2016-01-01 21:17:00  Business       Fort Pierce   \n",
              "1    2016-01-02 01:25:00 2016-01-02 01:37:00  Business       Fort Pierce   \n",
              "2    2016-01-02 20:25:00 2016-01-02 20:38:00  Business       Fort Pierce   \n",
              "3    2016-01-05 17:31:00 2016-01-05 17:45:00  Business       Fort Pierce   \n",
              "4    2016-01-06 14:42:00 2016-01-06 15:49:00  Business       Fort Pierce   \n",
              "...                  ...                 ...       ...               ...   \n",
              "1150 2016-12-31 01:07:00 2016-12-31 01:14:00  Business           Kar?chi   \n",
              "1151 2016-12-31 13:24:00 2016-12-31 13:42:00  Business           Kar?chi   \n",
              "1152 2016-12-31 15:03:00 2016-12-31 15:38:00  Business  Unknown Location   \n",
              "1153 2016-12-31 21:32:00 2016-12-31 21:50:00  Business        Katunayake   \n",
              "1154 2016-12-31 22:08:00 2016-12-31 23:51:00  Business           Gampaha   \n",
              "\n",
              "                  STOP  MILES          PURPOSE  \n",
              "0          Fort Pierce    5.1   Meal/Entertain  \n",
              "1          Fort Pierce    5.0              NaN  \n",
              "2          Fort Pierce    4.8  Errand/Supplies  \n",
              "3          Fort Pierce    4.7          Meeting  \n",
              "4      West Palm Beach   63.7   Customer Visit  \n",
              "...                ...    ...              ...  \n",
              "1150           Kar?chi    0.7          Meeting  \n",
              "1151  Unknown Location    3.9   Temporary Site  \n",
              "1152  Unknown Location   16.2          Meeting  \n",
              "1153           Gampaha    6.4   Temporary Site  \n",
              "1154         Ilukwatta   48.2   Temporary Site  \n",
              "\n",
              "[1150 rows x 7 columns]"
            ]
          },
          "execution_count": 26,
          "metadata": {},
          "output_type": "execute_result"
        }
      ],
      "source": [
        "data.drop(data.index[[751,761,798,807]],inplace=True)\n",
        "data"
      ],
      "id": "dHMpn-IInXuV"
    },
    {
      "cell_type": "code",
      "execution_count": null,
      "metadata": {
        "colab": {
          "base_uri": "https://localhost:8080/"
        },
        "id": "9630ca61",
        "outputId": "03c315a3-8098-4c16-fa27-b412792c9fa0"
      },
      "outputs": [
        {
          "data": {
            "text/plain": [
              "Timestamp('2016-01-01 21:17:00')"
            ]
          },
          "execution_count": 27,
          "metadata": {},
          "output_type": "execute_result"
        }
      ],
      "source": [
        "ts = data['END_DATE'][0]\n",
        "ts"
      ],
      "id": "9630ca61"
    },
    {
      "cell_type": "markdown",
      "metadata": {
        "id": "aUWxoBXxXCsC"
      },
      "source": [
        "#### Now how can we extract the year from this date ?\n",
        "  - Using the `year` attribute\n",
        "\n"
      ],
      "id": "aUWxoBXxXCsC"
    },
    {
      "cell_type": "code",
      "execution_count": null,
      "metadata": {
        "colab": {
          "base_uri": "https://localhost:8080/"
        },
        "id": "b23147d1",
        "outputId": "d0759141-0b0f-49d6-90f4-9df5e6ed968a"
      },
      "outputs": [
        {
          "data": {
            "text/plain": [
              "2016"
            ]
          },
          "execution_count": 28,
          "metadata": {},
          "output_type": "execute_result"
        }
      ],
      "source": [
        "ts.year"
      ],
      "id": "b23147d1"
    },
    {
      "cell_type": "markdown",
      "metadata": {
        "id": "BzX76yfCXOpQ"
      },
      "source": [
        "Similarly we can also access the month and day using the `month` and `day` attributes"
      ],
      "id": "BzX76yfCXOpQ"
    },
    {
      "cell_type": "code",
      "execution_count": null,
      "metadata": {
        "colab": {
          "base_uri": "https://localhost:8080/"
        },
        "id": "1b6f06db",
        "outputId": "1c52e107-e9a5-49cf-b13f-c0bdfa11806b"
      },
      "outputs": [
        {
          "data": {
            "text/plain": [
              "1"
            ]
          },
          "execution_count": 29,
          "metadata": {},
          "output_type": "execute_result"
        }
      ],
      "source": [
        "ts.month"
      ],
      "id": "1b6f06db"
    },
    {
      "cell_type": "code",
      "execution_count": null,
      "metadata": {
        "colab": {
          "base_uri": "https://localhost:8080/"
        },
        "id": "b3614273",
        "outputId": "c6c60cae-fb06-473b-dc00-4104d029d032"
      },
      "outputs": [
        {
          "data": {
            "text/plain": [
              "1"
            ]
          },
          "execution_count": 30,
          "metadata": {},
          "output_type": "execute_result"
        }
      ],
      "source": [
        "ts.day"
      ],
      "id": "b3614273"
    },
    {
      "cell_type": "markdown",
      "metadata": {
        "id": "HXrh96fKXYdZ"
      },
      "source": [
        "#### But what if we want to know the name of the month or the day of the week on that date ?\n",
        "  - using `month_name()` and `day_name()` methods"
      ],
      "id": "HXrh96fKXYdZ"
    },
    {
      "cell_type": "code",
      "execution_count": null,
      "metadata": {
        "colab": {
          "base_uri": "https://localhost:8080/",
          "height": 36
        },
        "id": "5549b282",
        "outputId": "b11b88e0-a306-486c-983b-0b694edcb88d"
      },
      "outputs": [
        {
          "data": {
            "text/plain": [
              "'January'"
            ]
          },
          "execution_count": 31,
          "metadata": {},
          "output_type": "execute_result"
        }
      ],
      "source": [
        "ts.month_name()"
      ],
      "id": "5549b282"
    },
    {
      "cell_type": "code",
      "execution_count": null,
      "metadata": {
        "colab": {
          "base_uri": "https://localhost:8080/",
          "height": 36
        },
        "id": "8d604c3d",
        "outputId": "5eaf1fc1-dc00-4e50-b9f4-4d2c491176eb"
      },
      "outputs": [
        {
          "data": {
            "text/plain": [
              "'Friday'"
            ]
          },
          "execution_count": 32,
          "metadata": {},
          "output_type": "execute_result"
        }
      ],
      "source": [
        "ts.day_name()"
      ],
      "id": "8d604c3d"
    },
    {
      "cell_type": "code",
      "execution_count": null,
      "metadata": {
        "colab": {
          "base_uri": "https://localhost:8080/"
        },
        "id": "4c5159fd",
        "outputId": "79728047-4a66-4e5e-ba5a-96403bed2172"
      },
      "outputs": [
        {
          "data": {
            "text/plain": [
              "4"
            ]
          },
          "execution_count": 33,
          "metadata": {},
          "output_type": "execute_result"
        }
      ],
      "source": [
        "ts.dayofweek"
      ],
      "id": "4c5159fd"
    },
    {
      "cell_type": "code",
      "execution_count": null,
      "metadata": {
        "colab": {
          "base_uri": "https://localhost:8080/"
        },
        "id": "cd235ba6",
        "outputId": "51686d19-db72-489f-89e4-831918b267e5"
      },
      "outputs": [
        {
          "data": {
            "text/plain": [
              "21"
            ]
          },
          "execution_count": 34,
          "metadata": {},
          "output_type": "execute_result"
        }
      ],
      "source": [
        "ts.hour"
      ],
      "id": "cd235ba6"
    },
    {
      "cell_type": "markdown",
      "metadata": {
        "id": "12604d43"
      },
      "source": [
        "\n",
        "- We can similarly extract minutes and seconds\n",
        "\n",
        "\n",
        "### Let's add a new column having only `year`\n",
        "- `.dt`"
      ],
      "id": "12604d43"
    },
    {
      "cell_type": "code",
      "execution_count": null,
      "metadata": {
        "colab": {
          "base_uri": "https://localhost:8080/"
        },
        "id": "397db0cb",
        "outputId": "78c7efe1-5a51-4c3c-d2c4-06a2a37cc805"
      },
      "outputs": [
        {
          "data": {
            "text/plain": [
              "<pandas.core.indexes.accessors.DatetimeProperties object at 0x000002210B969278>"
            ]
          },
          "execution_count": 35,
          "metadata": {},
          "output_type": "execute_result"
        }
      ],
      "source": [
        "data['END_DATE'].dt"
      ],
      "id": "397db0cb"
    },
    {
      "cell_type": "markdown",
      "metadata": {
        "id": "53f914b0"
      },
      "source": [
        "- **`dt` gives properties of values in a column**\n",
        "\n"
      ],
      "id": "53f914b0"
    },
    {
      "cell_type": "code",
      "execution_count": null,
      "metadata": {
        "colab": {
          "base_uri": "https://localhost:8080/"
        },
        "id": "d0ad00fa",
        "outputId": "acdf571c-c227-4a80-f8d6-b751014ddc98"
      },
      "outputs": [
        {
          "data": {
            "text/plain": [
              "0       2016\n",
              "1       2016\n",
              "2       2016\n",
              "3       2016\n",
              "4       2016\n",
              "        ... \n",
              "1150    2016\n",
              "1151    2016\n",
              "1152    2016\n",
              "1153    2016\n",
              "1154    2016\n",
              "Name: END_DATE, Length: 1150, dtype: int64"
            ]
          },
          "execution_count": 37,
          "metadata": {},
          "output_type": "execute_result"
        }
      ],
      "source": [
        "data['END_DATE'].dt.year"
      ],
      "id": "d0ad00fa"
    },
    {
      "cell_type": "code",
      "execution_count": null,
      "metadata": {
        "colab": {
          "base_uri": "https://localhost:8080/",
          "height": 206
        },
        "id": "d8e9225e",
        "outputId": "abac5f8b-1615-4c95-e695-5a91b9a438fa"
      },
      "outputs": [
        {
          "data": {
            "text/html": [
              "<div>\n",
              "<style scoped>\n",
              "    .dataframe tbody tr th:only-of-type {\n",
              "        vertical-align: middle;\n",
              "    }\n",
              "\n",
              "    .dataframe tbody tr th {\n",
              "        vertical-align: top;\n",
              "    }\n",
              "\n",
              "    .dataframe thead th {\n",
              "        text-align: right;\n",
              "    }\n",
              "</style>\n",
              "<table border=\"1\" class=\"dataframe\">\n",
              "  <thead>\n",
              "    <tr style=\"text-align: right;\">\n",
              "      <th></th>\n",
              "      <th>START_DATE</th>\n",
              "      <th>END_DATE</th>\n",
              "      <th>CATEGORY</th>\n",
              "      <th>START</th>\n",
              "      <th>STOP</th>\n",
              "      <th>MILES</th>\n",
              "      <th>PURPOSE</th>\n",
              "      <th>year</th>\n",
              "    </tr>\n",
              "  </thead>\n",
              "  <tbody>\n",
              "    <tr>\n",
              "      <th>0</th>\n",
              "      <td>2016-01-01 21:11:00</td>\n",
              "      <td>2016-01-01 21:17:00</td>\n",
              "      <td>Business</td>\n",
              "      <td>Fort Pierce</td>\n",
              "      <td>Fort Pierce</td>\n",
              "      <td>5.1</td>\n",
              "      <td>Meal/Entertain</td>\n",
              "      <td>2016</td>\n",
              "    </tr>\n",
              "    <tr>\n",
              "      <th>1</th>\n",
              "      <td>2016-01-02 01:25:00</td>\n",
              "      <td>2016-01-02 01:37:00</td>\n",
              "      <td>Business</td>\n",
              "      <td>Fort Pierce</td>\n",
              "      <td>Fort Pierce</td>\n",
              "      <td>5.0</td>\n",
              "      <td>NaN</td>\n",
              "      <td>2016</td>\n",
              "    </tr>\n",
              "    <tr>\n",
              "      <th>2</th>\n",
              "      <td>2016-01-02 20:25:00</td>\n",
              "      <td>2016-01-02 20:38:00</td>\n",
              "      <td>Business</td>\n",
              "      <td>Fort Pierce</td>\n",
              "      <td>Fort Pierce</td>\n",
              "      <td>4.8</td>\n",
              "      <td>Errand/Supplies</td>\n",
              "      <td>2016</td>\n",
              "    </tr>\n",
              "    <tr>\n",
              "      <th>3</th>\n",
              "      <td>2016-01-05 17:31:00</td>\n",
              "      <td>2016-01-05 17:45:00</td>\n",
              "      <td>Business</td>\n",
              "      <td>Fort Pierce</td>\n",
              "      <td>Fort Pierce</td>\n",
              "      <td>4.7</td>\n",
              "      <td>Meeting</td>\n",
              "      <td>2016</td>\n",
              "    </tr>\n",
              "    <tr>\n",
              "      <th>4</th>\n",
              "      <td>2016-01-06 14:42:00</td>\n",
              "      <td>2016-01-06 15:49:00</td>\n",
              "      <td>Business</td>\n",
              "      <td>Fort Pierce</td>\n",
              "      <td>West Palm Beach</td>\n",
              "      <td>63.7</td>\n",
              "      <td>Customer Visit</td>\n",
              "      <td>2016</td>\n",
              "    </tr>\n",
              "  </tbody>\n",
              "</table>\n",
              "</div>"
            ],
            "text/plain": [
              "           START_DATE            END_DATE  CATEGORY        START  \\\n",
              "0 2016-01-01 21:11:00 2016-01-01 21:17:00  Business  Fort Pierce   \n",
              "1 2016-01-02 01:25:00 2016-01-02 01:37:00  Business  Fort Pierce   \n",
              "2 2016-01-02 20:25:00 2016-01-02 20:38:00  Business  Fort Pierce   \n",
              "3 2016-01-05 17:31:00 2016-01-05 17:45:00  Business  Fort Pierce   \n",
              "4 2016-01-06 14:42:00 2016-01-06 15:49:00  Business  Fort Pierce   \n",
              "\n",
              "              STOP  MILES          PURPOSE  year  \n",
              "0      Fort Pierce    5.1   Meal/Entertain  2016  \n",
              "1      Fort Pierce    5.0              NaN  2016  \n",
              "2      Fort Pierce    4.8  Errand/Supplies  2016  \n",
              "3      Fort Pierce    4.7          Meeting  2016  \n",
              "4  West Palm Beach   63.7   Customer Visit  2016  "
            ]
          },
          "execution_count": 38,
          "metadata": {},
          "output_type": "execute_result"
        }
      ],
      "source": [
        "data['year'] = data['END_DATE'].dt.year\n",
        "data.head()"
      ],
      "id": "d8e9225e"
    },
    {
      "cell_type": "markdown",
      "metadata": {
        "id": "ab99e84a"
      },
      "source": [
        "#### Lets try to answer the following questions:\n",
        "\n",
        "- **What is the shortest journey made?** \n",
        "\n",
        "\n",
        "- **What is the longest journey made?** \n",
        "\n",
        "\n",
        "- **What is the average journey made?** \n",
        "\n",
        "\n",
        "- **How many years of data do we have?** \n",
        "\n",
        "\n",
        "\n"
      ],
      "id": "ab99e84a"
    },
    {
      "cell_type": "code",
      "execution_count": null,
      "metadata": {
        "colab": {
          "base_uri": "https://localhost:8080/",
          "height": 300
        },
        "id": "832a2c86",
        "outputId": "5a2579b1-8bb3-4b78-eef9-d33be144d6ac"
      },
      "outputs": [
        {
          "data": {
            "text/html": [
              "<div>\n",
              "<style scoped>\n",
              "    .dataframe tbody tr th:only-of-type {\n",
              "        vertical-align: middle;\n",
              "    }\n",
              "\n",
              "    .dataframe tbody tr th {\n",
              "        vertical-align: top;\n",
              "    }\n",
              "\n",
              "    .dataframe thead th {\n",
              "        text-align: right;\n",
              "    }\n",
              "</style>\n",
              "<table border=\"1\" class=\"dataframe\">\n",
              "  <thead>\n",
              "    <tr style=\"text-align: right;\">\n",
              "      <th></th>\n",
              "      <th>MILES</th>\n",
              "      <th>year</th>\n",
              "    </tr>\n",
              "  </thead>\n",
              "  <tbody>\n",
              "    <tr>\n",
              "      <th>count</th>\n",
              "      <td>1150.000000</td>\n",
              "      <td>1150.0</td>\n",
              "    </tr>\n",
              "    <tr>\n",
              "      <th>mean</th>\n",
              "      <td>10.584609</td>\n",
              "      <td>2016.0</td>\n",
              "    </tr>\n",
              "    <tr>\n",
              "      <th>std</th>\n",
              "      <td>21.623241</td>\n",
              "      <td>0.0</td>\n",
              "    </tr>\n",
              "    <tr>\n",
              "      <th>min</th>\n",
              "      <td>0.500000</td>\n",
              "      <td>2016.0</td>\n",
              "    </tr>\n",
              "    <tr>\n",
              "      <th>25%</th>\n",
              "      <td>2.900000</td>\n",
              "      <td>2016.0</td>\n",
              "    </tr>\n",
              "    <tr>\n",
              "      <th>50%</th>\n",
              "      <td>6.000000</td>\n",
              "      <td>2016.0</td>\n",
              "    </tr>\n",
              "    <tr>\n",
              "      <th>75%</th>\n",
              "      <td>10.400000</td>\n",
              "      <td>2016.0</td>\n",
              "    </tr>\n",
              "    <tr>\n",
              "      <th>max</th>\n",
              "      <td>310.300000</td>\n",
              "      <td>2016.0</td>\n",
              "    </tr>\n",
              "  </tbody>\n",
              "</table>\n",
              "</div>"
            ],
            "text/plain": [
              "             MILES    year\n",
              "count  1150.000000  1150.0\n",
              "mean     10.584609  2016.0\n",
              "std      21.623241     0.0\n",
              "min       0.500000  2016.0\n",
              "25%       2.900000  2016.0\n",
              "50%       6.000000  2016.0\n",
              "75%      10.400000  2016.0\n",
              "max     310.300000  2016.0"
            ]
          },
          "execution_count": 39,
          "metadata": {},
          "output_type": "execute_result"
        }
      ],
      "source": [
        "data.describe()"
      ],
      "id": "832a2c86"
    },
    {
      "cell_type": "markdown",
      "metadata": {
        "id": "iFZw6EIB5Yz9"
      },
      "source": [
        "#### So We can answer all the questions by looking at it:\n",
        "\n",
        "- **What is the shortest journey made?** - 0.5 miles\n",
        "\n",
        "\n",
        "- **What is the longest journey made?** - 310.3 miles\n",
        "\n",
        "\n",
        "- **What is the average journey made?** - mean value\n",
        "\n",
        "\n",
        "- **How many years of data do we have?** - Just 1 year - 2016"
      ],
      "id": "iFZw6EIB5Yz9"
    }
  ],
  "metadata": {
    "colab": {
      "collapsed_sections": [
        "iFZw6EIB5Yz9"
      ],
      "name": "Notes-Pandas3-UberUseCase.ipynb",
      "provenance": [],
      "include_colab_link": true
    },
    "kernelspec": {
      "display_name": "Python 3",
      "language": "python",
      "name": "python3"
    },
    "language_info": {
      "codemirror_mode": {
        "name": "ipython",
        "version": 3
      },
      "file_extension": ".py",
      "mimetype": "text/x-python",
      "name": "python",
      "nbconvert_exporter": "python",
      "pygments_lexer": "ipython3",
      "version": "3.6.5"
    }
  },
  "nbformat": 4,
  "nbformat_minor": 5
}